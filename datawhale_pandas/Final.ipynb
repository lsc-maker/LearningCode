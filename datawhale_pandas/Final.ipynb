{
 "cells": [
  {
   "cell_type": "code",
   "execution_count": 1,
   "metadata": {},
   "outputs": [],
   "source": [
    "#引入包\n",
    "import numpy as np\n",
    "import pandas as pd"
   ]
  },
  {
   "cell_type": "markdown",
   "metadata": {},
   "source": [
    "# 端午节的淘宝粽子交易  \n",
    "## 问题  \n",
    "(1) 请删除最后一列为缺失值的行，并求所有在杭州发货的商品单价均值。  \n",
    "\n",
    "(2) 商品标题带有“嘉兴”但发货地却不在嘉兴的商品有多少条记录?  \n",
    "\n",
    "(3) 请按照分位数将价格分为“高、较高、中、较低、低”5 个类别，再将 类别结果插入到标题一列之后，最后对类别列进行降序排序。  \n",
    "\n",
    "(4) 付款人数一栏有缺失值吗?若有则请利用上一问的分类结果对这些缺失 值进行合理估计并填充。  \n",
    "\n",
    "(5) 请将数据后四列合并为如下格式的 Series:商品发货地为 ××，店铺为 ××，共计 ×× 人付款，单价为 ××。  \n",
    "\n",
    "(6) 请将上一问中的结果恢复成原来的四列。  "
   ]
  },
  {
   "cell_type": "code",
   "execution_count": 2,
   "metadata": {},
   "outputs": [
    {
     "data": {
      "text/html": [
       "<div>\n",
       "<style scoped>\n",
       "    .dataframe tbody tr th:only-of-type {\n",
       "        vertical-align: middle;\n",
       "    }\n",
       "\n",
       "    .dataframe tbody tr th {\n",
       "        vertical-align: top;\n",
       "    }\n",
       "\n",
       "    .dataframe thead th {\n",
       "        text-align: right;\n",
       "    }\n",
       "</style>\n",
       "<table border=\"1\" class=\"dataframe\">\n",
       "  <thead>\n",
       "    <tr style=\"text-align: right;\">\n",
       "      <th></th>\n",
       "      <th>标题</th>\n",
       "      <th>价格</th>\n",
       "      <th>付款人数</th>\n",
       "      <th>店铺</th>\n",
       "      <th>发货地址</th>\n",
       "    </tr>\n",
       "  </thead>\n",
       "  <tbody>\n",
       "    <tr>\n",
       "      <th>0</th>\n",
       "      <td>五芳斋粽子礼盒 心悦+18只装咸鸭蛋组合端午节礼品团购嘉兴肉粽子</td>\n",
       "      <td>129</td>\n",
       "      <td>6人付款</td>\n",
       "      <td>五芳斋官方旗舰店</td>\n",
       "      <td>浙江 嘉兴</td>\n",
       "    </tr>\n",
       "    <tr>\n",
       "      <th>1</th>\n",
       "      <td>北京稻香村端午粽子手工豆沙粽220g*2袋散装豆沙粽香甜软糯豆沙粽</td>\n",
       "      <td>44</td>\n",
       "      <td>8人付款</td>\n",
       "      <td>天猫超市</td>\n",
       "      <td>上海</td>\n",
       "    </tr>\n",
       "    <tr>\n",
       "      <th>2</th>\n",
       "      <td>五芳斋粽子礼盒装鲜肉咸蛋黄大肉粽嘉兴豆沙甜粽端午团购散装礼品</td>\n",
       "      <td>89.9</td>\n",
       "      <td>100万+人付款</td>\n",
       "      <td>五芳斋官方旗舰店</td>\n",
       "      <td>浙江 嘉兴</td>\n",
       "    </tr>\n",
       "    <tr>\n",
       "      <th>3</th>\n",
       "      <td>稻香私房鲜肉粽蛋黄肉粽嘉兴粽子咸鸭蛋礼盒装端午节送礼特产团购</td>\n",
       "      <td>138</td>\n",
       "      <td>1936人付款</td>\n",
       "      <td>稻香村食品旗舰店</td>\n",
       "      <td>北京</td>\n",
       "    </tr>\n",
       "    <tr>\n",
       "      <th>4</th>\n",
       "      <td>嘉兴粽子 蛋黄鲜肉粽新鲜大肉粽早餐散装团购浙江特产蜜枣多口味</td>\n",
       "      <td>3.8</td>\n",
       "      <td>9500+人付款</td>\n",
       "      <td>城城喂食猫</td>\n",
       "      <td>浙江 嘉兴</td>\n",
       "    </tr>\n",
       "  </tbody>\n",
       "</table>\n",
       "</div>"
      ],
      "text/plain": [
       "                                  标题    价格      付款人数        店铺  发货地址 \n",
       "0   五芳斋粽子礼盒 心悦+18只装咸鸭蛋组合端午节礼品团购嘉兴肉粽子   129      6人付款  五芳斋官方旗舰店  浙江 嘉兴\n",
       "1  北京稻香村端午粽子手工豆沙粽220g*2袋散装豆沙粽香甜软糯豆沙粽    44      8人付款      天猫超市     上海\n",
       "2     五芳斋粽子礼盒装鲜肉咸蛋黄大肉粽嘉兴豆沙甜粽端午团购散装礼品  89.9  100万+人付款  五芳斋官方旗舰店  浙江 嘉兴\n",
       "3     稻香私房鲜肉粽蛋黄肉粽嘉兴粽子咸鸭蛋礼盒装端午节送礼特产团购   138   1936人付款  稻香村食品旗舰店     北京\n",
       "4     嘉兴粽子 蛋黄鲜肉粽新鲜大肉粽早餐散装团购浙江特产蜜枣多口味   3.8  9500+人付款     城城喂食猫  浙江 嘉兴"
      ]
     },
     "execution_count": 2,
     "metadata": {},
     "output_type": "execute_result"
    }
   ],
   "source": [
    "#读取数据表\n",
    "df = pd.read_csv('./data/端午粽子数据.csv')\n",
    "df.head()"
   ]
  },
  {
   "cell_type": "code",
   "execution_count": 3,
   "metadata": {},
   "outputs": [
    {
     "name": "stdout",
     "output_type": "stream",
     "text": [
      "<class 'pandas.core.frame.DataFrame'>\n",
      "RangeIndex: 4403 entries, 0 to 4402\n",
      "Data columns (total 5 columns):\n",
      " #   Column  Non-Null Count  Dtype \n",
      "---  ------  --------------  ----- \n",
      " 0   标题      4403 non-null   object\n",
      " 1    价格     4403 non-null   object\n",
      " 2   付款人数    4332 non-null   object\n",
      " 3   店铺      4403 non-null   object\n",
      " 4   发货地址    4400 non-null   object\n",
      "dtypes: object(5)\n",
      "memory usage: 172.1+ KB\n"
     ]
    }
   ],
   "source": [
    "df.info()"
   ]
  },
  {
   "cell_type": "code",
   "execution_count": 4,
   "metadata": {},
   "outputs": [
    {
     "data": {
      "text/plain": [
       "81.1"
      ]
     },
     "execution_count": 4,
     "metadata": {},
     "output_type": "execute_result"
    }
   ],
   "source": [
    "#(1) 请删除最后一列为缺失值的行，并求所有在杭州发货的商品单价均值。\n",
    "zongzi = df.copy().dropna(axis=0,subset=['发货地址 '])#4400条，以下问题均以此表为基础\n",
    "pd.to_numeric(zongzi[zongzi['发货地址 '].str.contains('杭州')][' 价格'],errors='coerce').mean().round(decimals=2)"
   ]
  },
  {
   "cell_type": "code",
   "execution_count": 5,
   "metadata": {},
   "outputs": [
    {
     "data": {
      "text/plain": [
       "1032"
      ]
     },
     "execution_count": 5,
     "metadata": {},
     "output_type": "execute_result"
    }
   ],
   "source": [
    "#(2) 商品标题带有“嘉兴”但发货地却不在嘉兴的商品有多少条记录?\n",
    "zongzi[(zongzi['标题'].str.contains('嘉兴')) &(~zongzi['发货地址 '].str.contains('嘉兴'))].shape[0]"
   ]
  },
  {
   "cell_type": "code",
   "execution_count": 6,
   "metadata": {},
   "outputs": [
    {
     "data": {
      "text/html": [
       "<div>\n",
       "<style scoped>\n",
       "    .dataframe tbody tr th:only-of-type {\n",
       "        vertical-align: middle;\n",
       "    }\n",
       "\n",
       "    .dataframe tbody tr th {\n",
       "        vertical-align: top;\n",
       "    }\n",
       "\n",
       "    .dataframe thead th {\n",
       "        text-align: right;\n",
       "    }\n",
       "</style>\n",
       "<table border=\"1\" class=\"dataframe\">\n",
       "  <thead>\n",
       "    <tr style=\"text-align: right;\">\n",
       "      <th></th>\n",
       "      <th>标题</th>\n",
       "      <th>价格类别</th>\n",
       "      <th>价格</th>\n",
       "      <th>付款人数</th>\n",
       "      <th>店铺</th>\n",
       "      <th>发货地址</th>\n",
       "    </tr>\n",
       "  </thead>\n",
       "  <tbody>\n",
       "    <tr>\n",
       "      <th>3666</th>\n",
       "      <td>嘉兴五芳斋粽子紫米栗蓉粽板栗栗子甜粽子五谷素粽真空袋装美味</td>\n",
       "      <td>低</td>\n",
       "      <td>11.0</td>\n",
       "      <td>162人付款</td>\n",
       "      <td>三珍斋食品专营店</td>\n",
       "      <td>江苏 南京</td>\n",
       "    </tr>\n",
       "    <tr>\n",
       "      <th>1623</th>\n",
       "      <td>白米粽子新鲜湖南甜粽原味小粽子农家手工散装绿豆红枣碱水清水粽</td>\n",
       "      <td>低</td>\n",
       "      <td>20.9</td>\n",
       "      <td>181人付款</td>\n",
       "      <td>乐家_stone</td>\n",
       "      <td>湖南 常德</td>\n",
       "    </tr>\n",
       "    <tr>\n",
       "      <th>1053</th>\n",
       "      <td>【9只特价】新鲜蛋黄肉粽 嘉兴粽子特产端午节批发团购早餐粽手工</td>\n",
       "      <td>低</td>\n",
       "      <td>20.8</td>\n",
       "      <td>1358人付款</td>\n",
       "      <td>怡品三清旗舰店</td>\n",
       "      <td>浙江 杭州</td>\n",
       "    </tr>\n",
       "    <tr>\n",
       "      <th>3743</th>\n",
       "      <td>三珍斋嘉兴粽子大肉粽子蛋黄肉粽豆沙蜜枣端午节散装批发鲜肉棕子</td>\n",
       "      <td>低</td>\n",
       "      <td>19.9</td>\n",
       "      <td>35人付款</td>\n",
       "      <td>三珍斋乌镇专卖</td>\n",
       "      <td>浙江 嘉兴</td>\n",
       "    </tr>\n",
       "    <tr>\n",
       "      <th>1311</th>\n",
       "      <td>现做新鲜粽子咸蛋黄肉粽甜粽端午节散装嘉兴蜜枣豆沙大批發礼盒装</td>\n",
       "      <td>低</td>\n",
       "      <td>9.9</td>\n",
       "      <td>5000+人付款</td>\n",
       "      <td>徽老九美食</td>\n",
       "      <td>安徽 亳州</td>\n",
       "    </tr>\n",
       "    <tr>\n",
       "      <th>...</th>\n",
       "      <td>...</td>\n",
       "      <td>...</td>\n",
       "      <td>...</td>\n",
       "      <td>...</td>\n",
       "      <td>...</td>\n",
       "      <td>...</td>\n",
       "    </tr>\n",
       "    <tr>\n",
       "      <th>3548</th>\n",
       "      <td>锦华粽子瑞阳祥礼端午节礼盒新鲜嘉兴肉素六粒粽蛋卷组合送人礼品</td>\n",
       "      <td>高</td>\n",
       "      <td>110.6</td>\n",
       "      <td>36人付款</td>\n",
       "      <td>北京咏逢礼信商贸有限公司</td>\n",
       "      <td>北京</td>\n",
       "    </tr>\n",
       "    <tr>\n",
       "      <th>3523</th>\n",
       "      <td>印象昆韵新品昆曲文化创意端午节胚芽糙米手工肉粽子端阳礼品礼盒</td>\n",
       "      <td>高</td>\n",
       "      <td>156.0</td>\n",
       "      <td>21人付款</td>\n",
       "      <td>印象昆韵</td>\n",
       "      <td>江苏 苏州</td>\n",
       "    </tr>\n",
       "    <tr>\n",
       "      <th>0</th>\n",
       "      <td>五芳斋粽子礼盒 心悦+18只装咸鸭蛋组合端午节礼品团购嘉兴肉粽子</td>\n",
       "      <td>高</td>\n",
       "      <td>129.0</td>\n",
       "      <td>6人付款</td>\n",
       "      <td>五芳斋官方旗舰店</td>\n",
       "      <td>浙江 嘉兴</td>\n",
       "    </tr>\n",
       "    <tr>\n",
       "      <th>538</th>\n",
       "      <td>五芳斋粽子蛋黄鲜肉粽豆沙粽栗子肉棕子新鲜散装批发团购嘉兴肉粽</td>\n",
       "      <td>NaN</td>\n",
       "      <td>NaN</td>\n",
       "      <td>1.0万+人付款</td>\n",
       "      <td>五芳斋官方旗舰店</td>\n",
       "      <td>浙江 嘉兴</td>\n",
       "    </tr>\n",
       "    <tr>\n",
       "      <th>4376</th>\n",
       "      <td>东方贺礼端午节礼盒嘉兴粽子高汤蛋黄鲜大肉粽特产现已支持定制</td>\n",
       "      <td>NaN</td>\n",
       "      <td>NaN</td>\n",
       "      <td>17人付款</td>\n",
       "      <td>缘来有礼</td>\n",
       "      <td>浙江 杭州</td>\n",
       "    </tr>\n",
       "  </tbody>\n",
       "</table>\n",
       "<p>4400 rows × 6 columns</p>\n",
       "</div>"
      ],
      "text/plain": [
       "                                    标题 价格类别     价格      付款人数            店铺  \\\n",
       "3666     嘉兴五芳斋粽子紫米栗蓉粽板栗栗子甜粽子五谷素粽真空袋装美味    低   11.0    162人付款      三珍斋食品专营店   \n",
       "1623    白米粽子新鲜湖南甜粽原味小粽子农家手工散装绿豆红枣碱水清水粽    低   20.9    181人付款      乐家_stone   \n",
       "1053   【9只特价】新鲜蛋黄肉粽 嘉兴粽子特产端午节批发团购早餐粽手工    低   20.8   1358人付款       怡品三清旗舰店   \n",
       "3743    三珍斋嘉兴粽子大肉粽子蛋黄肉粽豆沙蜜枣端午节散装批发鲜肉棕子    低   19.9     35人付款       三珍斋乌镇专卖   \n",
       "1311    现做新鲜粽子咸蛋黄肉粽甜粽端午节散装嘉兴蜜枣豆沙大批發礼盒装    低    9.9  5000+人付款         徽老九美食   \n",
       "...                                ...  ...    ...       ...           ...   \n",
       "3548    锦华粽子瑞阳祥礼端午节礼盒新鲜嘉兴肉素六粒粽蛋卷组合送人礼品    高  110.6     36人付款  北京咏逢礼信商贸有限公司   \n",
       "3523    印象昆韵新品昆曲文化创意端午节胚芽糙米手工肉粽子端阳礼品礼盒    高  156.0     21人付款          印象昆韵   \n",
       "0     五芳斋粽子礼盒 心悦+18只装咸鸭蛋组合端午节礼品团购嘉兴肉粽子    高  129.0      6人付款      五芳斋官方旗舰店   \n",
       "538     五芳斋粽子蛋黄鲜肉粽豆沙粽栗子肉棕子新鲜散装批发团购嘉兴肉粽  NaN    NaN  1.0万+人付款      五芳斋官方旗舰店   \n",
       "4376     东方贺礼端午节礼盒嘉兴粽子高汤蛋黄鲜大肉粽特产现已支持定制  NaN    NaN     17人付款          缘来有礼   \n",
       "\n",
       "      发货地址   \n",
       "3666  江苏 南京  \n",
       "1623  湖南 常德  \n",
       "1053  浙江 杭州  \n",
       "3743  浙江 嘉兴  \n",
       "1311  安徽 亳州  \n",
       "...     ...  \n",
       "3548     北京  \n",
       "3523  江苏 苏州  \n",
       "0     浙江 嘉兴  \n",
       "538   浙江 嘉兴  \n",
       "4376  浙江 杭州  \n",
       "\n",
       "[4400 rows x 6 columns]"
      ]
     },
     "execution_count": 6,
     "metadata": {},
     "output_type": "execute_result"
    }
   ],
   "source": [
    "#(3) 请按照分位数将价格分为“高、较高、中、较低、低”5 个类别，再将 类别结果插入到标题一列之后，最后对类别列进行降序排序。\n",
    "zongzi.loc[:,' 价格'] = pd.to_numeric(zongzi.loc[:,' 价格'],errors='coerce')\n",
    "q = [zongzi.loc[:,' 价格'].quantile(i) for i in [0,.2,.4,.6,.8,1]];q[-1] += 1\n",
    "zongzi.loc[:,'价格类别'] = pd.cut(zongzi[' 价格'],q,right=False,labels=['低','较低','中','较高','高'])\n",
    "zongzi.loc[:,['标题','价格类别', ' 价格', '付款人数', '店铺', '发货地址 ']].sort_values(by='价格类别')"
   ]
  },
  {
   "cell_type": "code",
   "execution_count": 7,
   "metadata": {},
   "outputs": [
    {
     "name": "stdout",
     "output_type": "stream",
     "text": [
      "<class 'pandas.core.frame.DataFrame'>\n",
      "Int64Index: 4400 entries, 0 to 4402\n",
      "Data columns (total 6 columns):\n",
      " #   Column  Non-Null Count  Dtype   \n",
      "---  ------  --------------  -----   \n",
      " 0   标题      4400 non-null   object  \n",
      " 1    价格     4398 non-null   float64 \n",
      " 2   付款人数    4329 non-null   object  \n",
      " 3   店铺      4400 non-null   object  \n",
      " 4   发货地址    4400 non-null   object  \n",
      " 5   价格类别    4398 non-null   category\n",
      "dtypes: category(1), float64(1), object(4)\n",
      "memory usage: 210.7+ KB\n"
     ]
    }
   ],
   "source": [
    "#(4) 付款人数一栏有缺失值吗?若有则请利用上一问的分类结果对这些缺失 值进行合理估计并填充。\n",
    "zongzi_loss = zongzi.copy()\n",
    "zongzi_loss.info()"
   ]
  },
  {
   "cell_type": "code",
   "execution_count": 8,
   "metadata": {},
   "outputs": [
    {
     "name": "stdout",
     "output_type": "stream",
     "text": [
      "<class 'pandas.core.frame.DataFrame'>\n",
      "Int64Index: 4400 entries, 0 to 4402\n",
      "Data columns (total 6 columns):\n",
      " #   Column  Non-Null Count  Dtype   \n",
      "---  ------  --------------  -----   \n",
      " 0   标题      4400 non-null   object  \n",
      " 1    价格     4398 non-null   float64 \n",
      " 2   付款人数    4400 non-null   object  \n",
      " 3   店铺      4400 non-null   object  \n",
      " 4   发货地址    4400 non-null   object  \n",
      " 5   价格类别    4398 non-null   category\n",
      "dtypes: category(1), float64(1), object(4)\n",
      "memory usage: 370.7+ KB\n"
     ]
    }
   ],
   "source": [
    "#用同价格类别的付款人数均值（不考虑100余条类似1.0万+、5000+等较大数值。）\n",
    "grouped = zongzi_loss.groupby('价格类别')\n",
    "for name,group in grouped:\n",
    "    zongzi_loss.loc[group.index,'付款人数'] = str(int(pd.to_numeric(group['付款人数'].astype(str).str[:-3],errors='coerce').mean()))+'人付款'\n",
    "zongzi_loss.info()"
   ]
  },
  {
   "cell_type": "code",
   "execution_count": 9,
   "metadata": {},
   "outputs": [
    {
     "data": {
      "text/plain": [
       "0    商品发货地为浙江 嘉兴，店铺为五芳斋官方旗舰店，共计139人付款，单价为129.0。\n",
       "1            商品发货地为上海，店铺为天猫超市，共计357人付款，单价为44.0。\n",
       "2     商品发货地为浙江 嘉兴，店铺为五芳斋官方旗舰店，共计291人付款，单价为89.9。\n",
       "3       商品发货地为北京，店铺为稻香村食品旗舰店，共计139人付款，单价为138.0。\n",
       "4         商品发货地为浙江 嘉兴，店铺为城城喂食猫，共计540人付款，单价为3.8。\n",
       "dtype: object"
      ]
     },
     "execution_count": 9,
     "metadata": {},
     "output_type": "execute_result"
    }
   ],
   "source": [
    "#(5) 请将数据后四列合并为如下格式的 Series:商品发货地为 ××，店铺为 ××，共计 ×× 人付款，单价为 ××。\n",
    "df_series = zongzi_loss.astype(str)\n",
    "df_str = ('商品发货地为'+df_series['发货地址 ']+'，店铺为'+df_series['店铺']+'，共计'+df_series['付款人数']+'，单价为'+df_series[' 价格']+'。')\n",
    "df_str.head()"
   ]
  },
  {
   "cell_type": "code",
   "execution_count": 10,
   "metadata": {},
   "outputs": [
    {
     "data": {
      "text/html": [
       "<div>\n",
       "<style scoped>\n",
       "    .dataframe tbody tr th:only-of-type {\n",
       "        vertical-align: middle;\n",
       "    }\n",
       "\n",
       "    .dataframe tbody tr th {\n",
       "        vertical-align: top;\n",
       "    }\n",
       "\n",
       "    .dataframe thead th {\n",
       "        text-align: right;\n",
       "    }\n",
       "</style>\n",
       "<table border=\"1\" class=\"dataframe\">\n",
       "  <thead>\n",
       "    <tr style=\"text-align: right;\">\n",
       "      <th></th>\n",
       "      <th>发货地址</th>\n",
       "      <th>店铺</th>\n",
       "      <th>付款人数</th>\n",
       "      <th>价格</th>\n",
       "    </tr>\n",
       "  </thead>\n",
       "  <tbody>\n",
       "    <tr>\n",
       "      <th>0</th>\n",
       "      <td>浙江 嘉兴</td>\n",
       "      <td>五芳斋官方旗舰店</td>\n",
       "      <td>139人付款</td>\n",
       "      <td>129.0</td>\n",
       "    </tr>\n",
       "    <tr>\n",
       "      <th>1</th>\n",
       "      <td>上海</td>\n",
       "      <td>天猫超市</td>\n",
       "      <td>357人付款</td>\n",
       "      <td>44.0</td>\n",
       "    </tr>\n",
       "    <tr>\n",
       "      <th>2</th>\n",
       "      <td>浙江 嘉兴</td>\n",
       "      <td>五芳斋官方旗舰店</td>\n",
       "      <td>291人付款</td>\n",
       "      <td>89.9</td>\n",
       "    </tr>\n",
       "    <tr>\n",
       "      <th>3</th>\n",
       "      <td>北京</td>\n",
       "      <td>稻香村食品旗舰店</td>\n",
       "      <td>139人付款</td>\n",
       "      <td>138.0</td>\n",
       "    </tr>\n",
       "    <tr>\n",
       "      <th>4</th>\n",
       "      <td>浙江 嘉兴</td>\n",
       "      <td>城城喂食猫</td>\n",
       "      <td>540人付款</td>\n",
       "      <td>3.8</td>\n",
       "    </tr>\n",
       "  </tbody>\n",
       "</table>\n",
       "</div>"
      ],
      "text/plain": [
       "    发货地址        店铺    付款人数     价格\n",
       "0  浙江 嘉兴  五芳斋官方旗舰店  139人付款  129.0\n",
       "1     上海      天猫超市  357人付款   44.0\n",
       "2  浙江 嘉兴  五芳斋官方旗舰店  291人付款   89.9\n",
       "3     北京  稻香村食品旗舰店  139人付款  138.0\n",
       "4  浙江 嘉兴     城城喂食猫  540人付款    3.8"
      ]
     },
     "execution_count": 10,
     "metadata": {},
     "output_type": "execute_result"
    }
   ],
   "source": [
    "#(6) 请将上一问中的结果恢复成原来的四列。\n",
    "df_res = df_str.str.extract(r'商品发货地为(?P<发货地址>[\\w]+\\s*[\\w]+)，店铺为(?P<店铺>[\\w]+)，共计(?P<付款人数>[\\w]+\\+*[\\w]+)，单价为(?P<价格>[\\d]+\\.*[\\d]+)。')\n",
    "df_res.head()"
   ]
  }
 ],
 "metadata": {
  "kernelspec": {
   "display_name": "Python 3",
   "language": "python",
   "name": "python3"
  },
  "language_info": {
   "codemirror_mode": {
    "name": "ipython",
    "version": 3
   },
   "file_extension": ".py",
   "mimetype": "text/x-python",
   "name": "python",
   "nbconvert_exporter": "python",
   "pygments_lexer": "ipython3",
   "version": "3.7.7"
  }
 },
 "nbformat": 4,
 "nbformat_minor": 4
}
