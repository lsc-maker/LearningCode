{
 "cells": [
  {
   "cell_type": "markdown",
   "metadata": {},
   "source": [
    "## 导入数据分析及可视化过程需要的库"
   ]
  },
  {
   "cell_type": "code",
   "execution_count": 1,
   "metadata": {},
   "outputs": [],
   "source": [
    "import pandas as pd\n",
    "import numpy as np\n",
    "import matplotlib.pyplot as plt\n",
    "import seaborn as sns\n",
    "import datetime\n",
    "import warnings\n",
    "warnings.filterwarnings('ignore')"
   ]
  },
  {
   "cell_type": "code",
   "execution_count": 2,
   "metadata": {},
   "outputs": [],
   "source": [
    "#读取文件\n",
    "data_train = pd.read_csv('./Data/train.csv')\n",
    "data_test_a = pd.read_csv('./Data/testA.csv')"
   ]
  },
  {
   "cell_type": "code",
   "execution_count": 4,
   "metadata": {},
   "outputs": [],
   "source": [
    "data_train_sample = pd.read_csv(\"./Data/train.csv\",nrows=5)"
   ]
  },
  {
   "cell_type": "markdown",
   "metadata": {},
   "source": [
    "### 查看数据集的样本个数和原始特征维度"
   ]
  },
  {
   "cell_type": "code",
   "execution_count": 6,
   "metadata": {},
   "outputs": [
    {
     "data": {
      "text/plain": [
       "(200000, 48)"
      ]
     },
     "execution_count": 6,
     "metadata": {},
     "output_type": "execute_result"
    }
   ],
   "source": [
    "data_test_a.shape"
   ]
  },
  {
   "cell_type": "code",
   "execution_count": 7,
   "metadata": {},
   "outputs": [
    {
     "data": {
      "text/plain": [
       "(800000, 47)"
      ]
     },
     "execution_count": 7,
     "metadata": {},
     "output_type": "execute_result"
    }
   ],
   "source": [
    "data_train.shape"
   ]
  },
  {
   "cell_type": "code",
   "execution_count": 10,
   "metadata": {},
   "outputs": [
    {
     "data": {
      "text/plain": [
       "Index(['id', 'loanAmnt', 'term', 'interestRate', 'installment', 'grade',\n",
       "       'subGrade', 'employmentTitle', 'employmentLength', 'homeOwnership',\n",
       "       'annualIncome', 'verificationStatus', 'issueDate', 'isDefault',\n",
       "       'purpose', 'postCode', 'regionCode', 'dti', 'delinquency_2years',\n",
       "       'ficoRangeLow', 'ficoRangeHigh', 'openAcc', 'pubRec',\n",
       "       'pubRecBankruptcies', 'revolBal', 'revolUtil', 'totalAcc',\n",
       "       'initialListStatus', 'applicationType', 'earliesCreditLine', 'title',\n",
       "       'policyCode', 'n0', 'n1', 'n2', 'n2.1', 'n4', 'n5', 'n6', 'n7', 'n8',\n",
       "       'n9', 'n10', 'n11', 'n12', 'n13', 'n14'],\n",
       "      dtype='object')"
      ]
     },
     "execution_count": 10,
     "metadata": {},
     "output_type": "execute_result"
    }
   ],
   "source": [
    "data_train.columns"
   ]
  },
  {
   "cell_type": "markdown",
   "metadata": {},
   "source": [
    "查看一下具体的列名，赛题理解部分已经给出具体的特征含义，这里方便阅读再给一下：\n",
    "\n",
    "* id 为贷款清单分配的唯一信用证标识\n",
    "* loanAmnt 贷款金额\n",
    "* term 贷款期限（year）\n",
    "* interestRate 贷款利率\n",
    "* installment 分期付款金额\n",
    "* grade 贷款等级\n",
    "* subGrade 贷款等级之子级\n",
    "* employmentTitle 就业职称\n",
    "* employmentLength 就业年限（年）\n",
    "* homeOwnership 借款人在登记时提供的房屋所有权状况\n",
    "* annualIncome 年收入\n",
    "* verificationStatus 验证状态\n",
    "* issueDate 贷款发放的月份\n",
    "* purpose 借款人在贷款申请时的贷款用途类别\n",
    "* postCode 借款人在贷款申请中提供的邮政编码的前3位数字\n",
    "* regionCode 地区编码\n",
    "* dti 债务收入比\n",
    "* delinquency_2years 借款人过去2年信用档案中逾期30天以上的违约事件数\n",
    "* ficoRangeLow 借款人在贷款发放时的fico所属的下限范围\n",
    "* ficoRangeHigh 借款人在贷款发放时的fico所属的上限范围\n",
    "* openAcc 借款人信用档案中未结信用额度的数量\n",
    "* pubRec 贬损公共记录的数量\n",
    "* pubRecBankruptcies 公开记录清除的数量\n",
    "* revolBal 信贷周转余额合计\n",
    "* revolUtil 循环额度利用率，或借款人使用的相对于所有可用循环信贷的信贷金额\n",
    "* totalAcc 借款人信用档案中当前的信用额度总数\n",
    "* initialListStatus 贷款的初始列表状态\n",
    "* applicationType 表明贷款是个人申请还是与两个共同借款人的联合申请\n",
    "* earliesCreditLine 借款人最早报告的信用额度开立的月份\n",
    "* title 借款人提供的贷款名称\n",
    "* policyCode 公开可用的策略_代码=1新产品不公开可用的策略_代码=2\n",
    "* n系列匿名特征 匿名特征n0-n14，为一些贷款人行为计数特征的处理"
   ]
  },
  {
   "cell_type": "code",
   "execution_count": 11,
   "metadata": {},
   "outputs": [
    {
     "name": "stdout",
     "output_type": "stream",
     "text": [
      "<class 'pandas.core.frame.DataFrame'>\n",
      "RangeIndex: 800000 entries, 0 to 799999\n",
      "Data columns (total 47 columns):\n",
      " #   Column              Non-Null Count   Dtype  \n",
      "---  ------              --------------   -----  \n",
      " 0   id                  800000 non-null  int64  \n",
      " 1   loanAmnt            800000 non-null  float64\n",
      " 2   term                800000 non-null  int64  \n",
      " 3   interestRate        800000 non-null  float64\n",
      " 4   installment         800000 non-null  float64\n",
      " 5   grade               800000 non-null  object \n",
      " 6   subGrade            800000 non-null  object \n",
      " 7   employmentTitle     799999 non-null  float64\n",
      " 8   employmentLength    753201 non-null  object \n",
      " 9   homeOwnership       800000 non-null  int64  \n",
      " 10  annualIncome        800000 non-null  float64\n",
      " 11  verificationStatus  800000 non-null  int64  \n",
      " 12  issueDate           800000 non-null  object \n",
      " 13  isDefault           800000 non-null  int64  \n",
      " 14  purpose             800000 non-null  int64  \n",
      " 15  postCode            799999 non-null  float64\n",
      " 16  regionCode          800000 non-null  int64  \n",
      " 17  dti                 799761 non-null  float64\n",
      " 18  delinquency_2years  800000 non-null  float64\n",
      " 19  ficoRangeLow        800000 non-null  float64\n",
      " 20  ficoRangeHigh       800000 non-null  float64\n",
      " 21  openAcc             800000 non-null  float64\n",
      " 22  pubRec              800000 non-null  float64\n",
      " 23  pubRecBankruptcies  799595 non-null  float64\n",
      " 24  revolBal            800000 non-null  float64\n",
      " 25  revolUtil           799469 non-null  float64\n",
      " 26  totalAcc            800000 non-null  float64\n",
      " 27  initialListStatus   800000 non-null  int64  \n",
      " 28  applicationType     800000 non-null  int64  \n",
      " 29  earliesCreditLine   800000 non-null  object \n",
      " 30  title               799999 non-null  float64\n",
      " 31  policyCode          800000 non-null  float64\n",
      " 32  n0                  759730 non-null  float64\n",
      " 33  n1                  759730 non-null  float64\n",
      " 34  n2                  759730 non-null  float64\n",
      " 35  n2.1                759730 non-null  float64\n",
      " 36  n4                  766761 non-null  float64\n",
      " 37  n5                  759730 non-null  float64\n",
      " 38  n6                  759730 non-null  float64\n",
      " 39  n7                  759730 non-null  float64\n",
      " 40  n8                  759729 non-null  float64\n",
      " 41  n9                  759730 non-null  float64\n",
      " 42  n10                 766761 non-null  float64\n",
      " 43  n11                 730248 non-null  float64\n",
      " 44  n12                 759730 non-null  float64\n",
      " 45  n13                 759730 non-null  float64\n",
      " 46  n14                 759730 non-null  float64\n",
      "dtypes: float64(33), int64(9), object(5)\n",
      "memory usage: 286.9+ MB\n"
     ]
    }
   ],
   "source": [
    "#通过info()来熟悉数据类型\n",
    "data_train.info()"
   ]
  },
  {
   "cell_type": "code",
   "execution_count": 13,
   "metadata": {},
   "outputs": [
    {
     "data": {
      "text/html": [
       "<div>\n",
       "<style scoped>\n",
       "    .dataframe tbody tr th:only-of-type {\n",
       "        vertical-align: middle;\n",
       "    }\n",
       "\n",
       "    .dataframe tbody tr th {\n",
       "        vertical-align: top;\n",
       "    }\n",
       "\n",
       "    .dataframe thead th {\n",
       "        text-align: right;\n",
       "    }\n",
       "</style>\n",
       "<table border=\"1\" class=\"dataframe\">\n",
       "  <thead>\n",
       "    <tr style=\"text-align: right;\">\n",
       "      <th></th>\n",
       "      <th>count</th>\n",
       "      <th>mean</th>\n",
       "      <th>std</th>\n",
       "      <th>min</th>\n",
       "      <th>25%</th>\n",
       "      <th>50%</th>\n",
       "      <th>75%</th>\n",
       "      <th>max</th>\n",
       "    </tr>\n",
       "  </thead>\n",
       "  <tbody>\n",
       "    <tr>\n",
       "      <th>id</th>\n",
       "      <td>800000.0</td>\n",
       "      <td>399999.500000</td>\n",
       "      <td>230940.252013</td>\n",
       "      <td>0.00</td>\n",
       "      <td>199999.75</td>\n",
       "      <td>399999.500</td>\n",
       "      <td>599999.25</td>\n",
       "      <td>799999.00</td>\n",
       "    </tr>\n",
       "    <tr>\n",
       "      <th>loanAmnt</th>\n",
       "      <td>800000.0</td>\n",
       "      <td>14416.818875</td>\n",
       "      <td>8716.086178</td>\n",
       "      <td>500.00</td>\n",
       "      <td>8000.00</td>\n",
       "      <td>12000.000</td>\n",
       "      <td>20000.00</td>\n",
       "      <td>40000.00</td>\n",
       "    </tr>\n",
       "    <tr>\n",
       "      <th>term</th>\n",
       "      <td>800000.0</td>\n",
       "      <td>3.482745</td>\n",
       "      <td>0.855832</td>\n",
       "      <td>3.00</td>\n",
       "      <td>3.00</td>\n",
       "      <td>3.000</td>\n",
       "      <td>3.00</td>\n",
       "      <td>5.00</td>\n",
       "    </tr>\n",
       "    <tr>\n",
       "      <th>interestRate</th>\n",
       "      <td>800000.0</td>\n",
       "      <td>13.238391</td>\n",
       "      <td>4.765757</td>\n",
       "      <td>5.31</td>\n",
       "      <td>9.75</td>\n",
       "      <td>12.740</td>\n",
       "      <td>15.99</td>\n",
       "      <td>30.99</td>\n",
       "    </tr>\n",
       "    <tr>\n",
       "      <th>installment</th>\n",
       "      <td>800000.0</td>\n",
       "      <td>437.947723</td>\n",
       "      <td>261.460393</td>\n",
       "      <td>15.69</td>\n",
       "      <td>248.45</td>\n",
       "      <td>375.135</td>\n",
       "      <td>580.71</td>\n",
       "      <td>1715.42</td>\n",
       "    </tr>\n",
       "    <tr>\n",
       "      <th>employmentTitle</th>\n",
       "      <td>799999.0</td>\n",
       "      <td>72005.351714</td>\n",
       "      <td>106585.640204</td>\n",
       "      <td>0.00</td>\n",
       "      <td>427.00</td>\n",
       "      <td>7755.000</td>\n",
       "      <td>117663.50</td>\n",
       "      <td>378351.00</td>\n",
       "    </tr>\n",
       "    <tr>\n",
       "      <th>homeOwnership</th>\n",
       "      <td>800000.0</td>\n",
       "      <td>0.614213</td>\n",
       "      <td>0.675749</td>\n",
       "      <td>0.00</td>\n",
       "      <td>0.00</td>\n",
       "      <td>1.000</td>\n",
       "      <td>1.00</td>\n",
       "      <td>5.00</td>\n",
       "    </tr>\n",
       "    <tr>\n",
       "      <th>annualIncome</th>\n",
       "      <td>800000.0</td>\n",
       "      <td>76133.910493</td>\n",
       "      <td>68947.513672</td>\n",
       "      <td>0.00</td>\n",
       "      <td>45600.00</td>\n",
       "      <td>65000.000</td>\n",
       "      <td>90000.00</td>\n",
       "      <td>10999200.00</td>\n",
       "    </tr>\n",
       "    <tr>\n",
       "      <th>verificationStatus</th>\n",
       "      <td>800000.0</td>\n",
       "      <td>1.009683</td>\n",
       "      <td>0.782716</td>\n",
       "      <td>0.00</td>\n",
       "      <td>0.00</td>\n",
       "      <td>1.000</td>\n",
       "      <td>2.00</td>\n",
       "      <td>2.00</td>\n",
       "    </tr>\n",
       "    <tr>\n",
       "      <th>isDefault</th>\n",
       "      <td>800000.0</td>\n",
       "      <td>0.199513</td>\n",
       "      <td>0.399634</td>\n",
       "      <td>0.00</td>\n",
       "      <td>0.00</td>\n",
       "      <td>0.000</td>\n",
       "      <td>0.00</td>\n",
       "      <td>1.00</td>\n",
       "    </tr>\n",
       "    <tr>\n",
       "      <th>purpose</th>\n",
       "      <td>800000.0</td>\n",
       "      <td>1.745982</td>\n",
       "      <td>2.367453</td>\n",
       "      <td>0.00</td>\n",
       "      <td>0.00</td>\n",
       "      <td>0.000</td>\n",
       "      <td>4.00</td>\n",
       "      <td>13.00</td>\n",
       "    </tr>\n",
       "    <tr>\n",
       "      <th>postCode</th>\n",
       "      <td>799999.0</td>\n",
       "      <td>258.535648</td>\n",
       "      <td>200.037446</td>\n",
       "      <td>0.00</td>\n",
       "      <td>103.00</td>\n",
       "      <td>203.000</td>\n",
       "      <td>395.00</td>\n",
       "      <td>940.00</td>\n",
       "    </tr>\n",
       "    <tr>\n",
       "      <th>regionCode</th>\n",
       "      <td>800000.0</td>\n",
       "      <td>16.385758</td>\n",
       "      <td>11.036679</td>\n",
       "      <td>0.00</td>\n",
       "      <td>8.00</td>\n",
       "      <td>14.000</td>\n",
       "      <td>22.00</td>\n",
       "      <td>50.00</td>\n",
       "    </tr>\n",
       "    <tr>\n",
       "      <th>dti</th>\n",
       "      <td>799761.0</td>\n",
       "      <td>18.284557</td>\n",
       "      <td>11.150155</td>\n",
       "      <td>-1.00</td>\n",
       "      <td>11.79</td>\n",
       "      <td>17.610</td>\n",
       "      <td>24.06</td>\n",
       "      <td>999.00</td>\n",
       "    </tr>\n",
       "    <tr>\n",
       "      <th>delinquency_2years</th>\n",
       "      <td>800000.0</td>\n",
       "      <td>0.318239</td>\n",
       "      <td>0.880325</td>\n",
       "      <td>0.00</td>\n",
       "      <td>0.00</td>\n",
       "      <td>0.000</td>\n",
       "      <td>0.00</td>\n",
       "      <td>39.00</td>\n",
       "    </tr>\n",
       "    <tr>\n",
       "      <th>ficoRangeLow</th>\n",
       "      <td>800000.0</td>\n",
       "      <td>696.204081</td>\n",
       "      <td>31.865995</td>\n",
       "      <td>630.00</td>\n",
       "      <td>670.00</td>\n",
       "      <td>690.000</td>\n",
       "      <td>710.00</td>\n",
       "      <td>845.00</td>\n",
       "    </tr>\n",
       "    <tr>\n",
       "      <th>ficoRangeHigh</th>\n",
       "      <td>800000.0</td>\n",
       "      <td>700.204226</td>\n",
       "      <td>31.866674</td>\n",
       "      <td>634.00</td>\n",
       "      <td>674.00</td>\n",
       "      <td>694.000</td>\n",
       "      <td>714.00</td>\n",
       "      <td>850.00</td>\n",
       "    </tr>\n",
       "    <tr>\n",
       "      <th>openAcc</th>\n",
       "      <td>800000.0</td>\n",
       "      <td>11.598020</td>\n",
       "      <td>5.475286</td>\n",
       "      <td>0.00</td>\n",
       "      <td>8.00</td>\n",
       "      <td>11.000</td>\n",
       "      <td>14.00</td>\n",
       "      <td>86.00</td>\n",
       "    </tr>\n",
       "    <tr>\n",
       "      <th>pubRec</th>\n",
       "      <td>800000.0</td>\n",
       "      <td>0.214915</td>\n",
       "      <td>0.606467</td>\n",
       "      <td>0.00</td>\n",
       "      <td>0.00</td>\n",
       "      <td>0.000</td>\n",
       "      <td>0.00</td>\n",
       "      <td>86.00</td>\n",
       "    </tr>\n",
       "    <tr>\n",
       "      <th>pubRecBankruptcies</th>\n",
       "      <td>799595.0</td>\n",
       "      <td>0.134163</td>\n",
       "      <td>0.377471</td>\n",
       "      <td>0.00</td>\n",
       "      <td>0.00</td>\n",
       "      <td>0.000</td>\n",
       "      <td>0.00</td>\n",
       "      <td>12.00</td>\n",
       "    </tr>\n",
       "    <tr>\n",
       "      <th>revolBal</th>\n",
       "      <td>800000.0</td>\n",
       "      <td>16228.706505</td>\n",
       "      <td>22458.020544</td>\n",
       "      <td>0.00</td>\n",
       "      <td>5944.00</td>\n",
       "      <td>11132.000</td>\n",
       "      <td>19734.00</td>\n",
       "      <td>2904836.00</td>\n",
       "    </tr>\n",
       "    <tr>\n",
       "      <th>revolUtil</th>\n",
       "      <td>799469.0</td>\n",
       "      <td>51.790734</td>\n",
       "      <td>24.516126</td>\n",
       "      <td>0.00</td>\n",
       "      <td>33.40</td>\n",
       "      <td>52.100</td>\n",
       "      <td>70.70</td>\n",
       "      <td>892.30</td>\n",
       "    </tr>\n",
       "    <tr>\n",
       "      <th>totalAcc</th>\n",
       "      <td>800000.0</td>\n",
       "      <td>24.998861</td>\n",
       "      <td>11.999201</td>\n",
       "      <td>2.00</td>\n",
       "      <td>16.00</td>\n",
       "      <td>23.000</td>\n",
       "      <td>32.00</td>\n",
       "      <td>162.00</td>\n",
       "    </tr>\n",
       "    <tr>\n",
       "      <th>initialListStatus</th>\n",
       "      <td>800000.0</td>\n",
       "      <td>0.416953</td>\n",
       "      <td>0.493055</td>\n",
       "      <td>0.00</td>\n",
       "      <td>0.00</td>\n",
       "      <td>0.000</td>\n",
       "      <td>1.00</td>\n",
       "      <td>1.00</td>\n",
       "    </tr>\n",
       "    <tr>\n",
       "      <th>applicationType</th>\n",
       "      <td>800000.0</td>\n",
       "      <td>0.019267</td>\n",
       "      <td>0.137464</td>\n",
       "      <td>0.00</td>\n",
       "      <td>0.00</td>\n",
       "      <td>0.000</td>\n",
       "      <td>0.00</td>\n",
       "      <td>1.00</td>\n",
       "    </tr>\n",
       "    <tr>\n",
       "      <th>title</th>\n",
       "      <td>799999.0</td>\n",
       "      <td>1754.113589</td>\n",
       "      <td>7941.474040</td>\n",
       "      <td>0.00</td>\n",
       "      <td>0.00</td>\n",
       "      <td>1.000</td>\n",
       "      <td>5.00</td>\n",
       "      <td>61680.00</td>\n",
       "    </tr>\n",
       "    <tr>\n",
       "      <th>policyCode</th>\n",
       "      <td>800000.0</td>\n",
       "      <td>1.000000</td>\n",
       "      <td>0.000000</td>\n",
       "      <td>1.00</td>\n",
       "      <td>1.00</td>\n",
       "      <td>1.000</td>\n",
       "      <td>1.00</td>\n",
       "      <td>1.00</td>\n",
       "    </tr>\n",
       "    <tr>\n",
       "      <th>n0</th>\n",
       "      <td>759730.0</td>\n",
       "      <td>0.511932</td>\n",
       "      <td>1.333266</td>\n",
       "      <td>0.00</td>\n",
       "      <td>0.00</td>\n",
       "      <td>0.000</td>\n",
       "      <td>0.00</td>\n",
       "      <td>51.00</td>\n",
       "    </tr>\n",
       "    <tr>\n",
       "      <th>n1</th>\n",
       "      <td>759730.0</td>\n",
       "      <td>3.642330</td>\n",
       "      <td>2.246825</td>\n",
       "      <td>0.00</td>\n",
       "      <td>2.00</td>\n",
       "      <td>3.000</td>\n",
       "      <td>5.00</td>\n",
       "      <td>33.00</td>\n",
       "    </tr>\n",
       "    <tr>\n",
       "      <th>n2</th>\n",
       "      <td>759730.0</td>\n",
       "      <td>5.642648</td>\n",
       "      <td>3.302810</td>\n",
       "      <td>0.00</td>\n",
       "      <td>3.00</td>\n",
       "      <td>5.000</td>\n",
       "      <td>7.00</td>\n",
       "      <td>63.00</td>\n",
       "    </tr>\n",
       "    <tr>\n",
       "      <th>n2.1</th>\n",
       "      <td>759730.0</td>\n",
       "      <td>5.642648</td>\n",
       "      <td>3.302810</td>\n",
       "      <td>0.00</td>\n",
       "      <td>3.00</td>\n",
       "      <td>5.000</td>\n",
       "      <td>7.00</td>\n",
       "      <td>63.00</td>\n",
       "    </tr>\n",
       "    <tr>\n",
       "      <th>n4</th>\n",
       "      <td>766761.0</td>\n",
       "      <td>4.735641</td>\n",
       "      <td>2.949969</td>\n",
       "      <td>0.00</td>\n",
       "      <td>3.00</td>\n",
       "      <td>4.000</td>\n",
       "      <td>6.00</td>\n",
       "      <td>49.00</td>\n",
       "    </tr>\n",
       "    <tr>\n",
       "      <th>n5</th>\n",
       "      <td>759730.0</td>\n",
       "      <td>8.107937</td>\n",
       "      <td>4.799210</td>\n",
       "      <td>0.00</td>\n",
       "      <td>5.00</td>\n",
       "      <td>7.000</td>\n",
       "      <td>11.00</td>\n",
       "      <td>70.00</td>\n",
       "    </tr>\n",
       "    <tr>\n",
       "      <th>n6</th>\n",
       "      <td>759730.0</td>\n",
       "      <td>8.575994</td>\n",
       "      <td>7.400536</td>\n",
       "      <td>0.00</td>\n",
       "      <td>4.00</td>\n",
       "      <td>7.000</td>\n",
       "      <td>11.00</td>\n",
       "      <td>132.00</td>\n",
       "    </tr>\n",
       "    <tr>\n",
       "      <th>n7</th>\n",
       "      <td>759730.0</td>\n",
       "      <td>8.282953</td>\n",
       "      <td>4.561689</td>\n",
       "      <td>0.00</td>\n",
       "      <td>5.00</td>\n",
       "      <td>7.000</td>\n",
       "      <td>10.00</td>\n",
       "      <td>79.00</td>\n",
       "    </tr>\n",
       "    <tr>\n",
       "      <th>n8</th>\n",
       "      <td>759729.0</td>\n",
       "      <td>14.622488</td>\n",
       "      <td>8.124610</td>\n",
       "      <td>1.00</td>\n",
       "      <td>9.00</td>\n",
       "      <td>13.000</td>\n",
       "      <td>19.00</td>\n",
       "      <td>128.00</td>\n",
       "    </tr>\n",
       "    <tr>\n",
       "      <th>n9</th>\n",
       "      <td>759730.0</td>\n",
       "      <td>5.592345</td>\n",
       "      <td>3.216184</td>\n",
       "      <td>0.00</td>\n",
       "      <td>3.00</td>\n",
       "      <td>5.000</td>\n",
       "      <td>7.00</td>\n",
       "      <td>45.00</td>\n",
       "    </tr>\n",
       "    <tr>\n",
       "      <th>n10</th>\n",
       "      <td>766761.0</td>\n",
       "      <td>11.643896</td>\n",
       "      <td>5.484104</td>\n",
       "      <td>0.00</td>\n",
       "      <td>8.00</td>\n",
       "      <td>11.000</td>\n",
       "      <td>14.00</td>\n",
       "      <td>82.00</td>\n",
       "    </tr>\n",
       "    <tr>\n",
       "      <th>n11</th>\n",
       "      <td>730248.0</td>\n",
       "      <td>0.000815</td>\n",
       "      <td>0.030075</td>\n",
       "      <td>0.00</td>\n",
       "      <td>0.00</td>\n",
       "      <td>0.000</td>\n",
       "      <td>0.00</td>\n",
       "      <td>4.00</td>\n",
       "    </tr>\n",
       "    <tr>\n",
       "      <th>n12</th>\n",
       "      <td>759730.0</td>\n",
       "      <td>0.003384</td>\n",
       "      <td>0.062041</td>\n",
       "      <td>0.00</td>\n",
       "      <td>0.00</td>\n",
       "      <td>0.000</td>\n",
       "      <td>0.00</td>\n",
       "      <td>4.00</td>\n",
       "    </tr>\n",
       "    <tr>\n",
       "      <th>n13</th>\n",
       "      <td>759730.0</td>\n",
       "      <td>0.089366</td>\n",
       "      <td>0.509069</td>\n",
       "      <td>0.00</td>\n",
       "      <td>0.00</td>\n",
       "      <td>0.000</td>\n",
       "      <td>0.00</td>\n",
       "      <td>39.00</td>\n",
       "    </tr>\n",
       "    <tr>\n",
       "      <th>n14</th>\n",
       "      <td>759730.0</td>\n",
       "      <td>2.178606</td>\n",
       "      <td>1.844377</td>\n",
       "      <td>0.00</td>\n",
       "      <td>1.00</td>\n",
       "      <td>2.000</td>\n",
       "      <td>3.00</td>\n",
       "      <td>30.00</td>\n",
       "    </tr>\n",
       "  </tbody>\n",
       "</table>\n",
       "</div>"
      ],
      "text/plain": [
       "                       count           mean            std     min        25%  \\\n",
       "id                  800000.0  399999.500000  230940.252013    0.00  199999.75   \n",
       "loanAmnt            800000.0   14416.818875    8716.086178  500.00    8000.00   \n",
       "term                800000.0       3.482745       0.855832    3.00       3.00   \n",
       "interestRate        800000.0      13.238391       4.765757    5.31       9.75   \n",
       "installment         800000.0     437.947723     261.460393   15.69     248.45   \n",
       "employmentTitle     799999.0   72005.351714  106585.640204    0.00     427.00   \n",
       "homeOwnership       800000.0       0.614213       0.675749    0.00       0.00   \n",
       "annualIncome        800000.0   76133.910493   68947.513672    0.00   45600.00   \n",
       "verificationStatus  800000.0       1.009683       0.782716    0.00       0.00   \n",
       "isDefault           800000.0       0.199513       0.399634    0.00       0.00   \n",
       "purpose             800000.0       1.745982       2.367453    0.00       0.00   \n",
       "postCode            799999.0     258.535648     200.037446    0.00     103.00   \n",
       "regionCode          800000.0      16.385758      11.036679    0.00       8.00   \n",
       "dti                 799761.0      18.284557      11.150155   -1.00      11.79   \n",
       "delinquency_2years  800000.0       0.318239       0.880325    0.00       0.00   \n",
       "ficoRangeLow        800000.0     696.204081      31.865995  630.00     670.00   \n",
       "ficoRangeHigh       800000.0     700.204226      31.866674  634.00     674.00   \n",
       "openAcc             800000.0      11.598020       5.475286    0.00       8.00   \n",
       "pubRec              800000.0       0.214915       0.606467    0.00       0.00   \n",
       "pubRecBankruptcies  799595.0       0.134163       0.377471    0.00       0.00   \n",
       "revolBal            800000.0   16228.706505   22458.020544    0.00    5944.00   \n",
       "revolUtil           799469.0      51.790734      24.516126    0.00      33.40   \n",
       "totalAcc            800000.0      24.998861      11.999201    2.00      16.00   \n",
       "initialListStatus   800000.0       0.416953       0.493055    0.00       0.00   \n",
       "applicationType     800000.0       0.019267       0.137464    0.00       0.00   \n",
       "title               799999.0    1754.113589    7941.474040    0.00       0.00   \n",
       "policyCode          800000.0       1.000000       0.000000    1.00       1.00   \n",
       "n0                  759730.0       0.511932       1.333266    0.00       0.00   \n",
       "n1                  759730.0       3.642330       2.246825    0.00       2.00   \n",
       "n2                  759730.0       5.642648       3.302810    0.00       3.00   \n",
       "n2.1                759730.0       5.642648       3.302810    0.00       3.00   \n",
       "n4                  766761.0       4.735641       2.949969    0.00       3.00   \n",
       "n5                  759730.0       8.107937       4.799210    0.00       5.00   \n",
       "n6                  759730.0       8.575994       7.400536    0.00       4.00   \n",
       "n7                  759730.0       8.282953       4.561689    0.00       5.00   \n",
       "n8                  759729.0      14.622488       8.124610    1.00       9.00   \n",
       "n9                  759730.0       5.592345       3.216184    0.00       3.00   \n",
       "n10                 766761.0      11.643896       5.484104    0.00       8.00   \n",
       "n11                 730248.0       0.000815       0.030075    0.00       0.00   \n",
       "n12                 759730.0       0.003384       0.062041    0.00       0.00   \n",
       "n13                 759730.0       0.089366       0.509069    0.00       0.00   \n",
       "n14                 759730.0       2.178606       1.844377    0.00       1.00   \n",
       "\n",
       "                           50%        75%          max  \n",
       "id                  399999.500  599999.25    799999.00  \n",
       "loanAmnt             12000.000   20000.00     40000.00  \n",
       "term                     3.000       3.00         5.00  \n",
       "interestRate            12.740      15.99        30.99  \n",
       "installment            375.135     580.71      1715.42  \n",
       "employmentTitle       7755.000  117663.50    378351.00  \n",
       "homeOwnership            1.000       1.00         5.00  \n",
       "annualIncome         65000.000   90000.00  10999200.00  \n",
       "verificationStatus       1.000       2.00         2.00  \n",
       "isDefault                0.000       0.00         1.00  \n",
       "purpose                  0.000       4.00        13.00  \n",
       "postCode               203.000     395.00       940.00  \n",
       "regionCode              14.000      22.00        50.00  \n",
       "dti                     17.610      24.06       999.00  \n",
       "delinquency_2years       0.000       0.00        39.00  \n",
       "ficoRangeLow           690.000     710.00       845.00  \n",
       "ficoRangeHigh          694.000     714.00       850.00  \n",
       "openAcc                 11.000      14.00        86.00  \n",
       "pubRec                   0.000       0.00        86.00  \n",
       "pubRecBankruptcies       0.000       0.00        12.00  \n",
       "revolBal             11132.000   19734.00   2904836.00  \n",
       "revolUtil               52.100      70.70       892.30  \n",
       "totalAcc                23.000      32.00       162.00  \n",
       "initialListStatus        0.000       1.00         1.00  \n",
       "applicationType          0.000       0.00         1.00  \n",
       "title                    1.000       5.00     61680.00  \n",
       "policyCode               1.000       1.00         1.00  \n",
       "n0                       0.000       0.00        51.00  \n",
       "n1                       3.000       5.00        33.00  \n",
       "n2                       5.000       7.00        63.00  \n",
       "n2.1                     5.000       7.00        63.00  \n",
       "n4                       4.000       6.00        49.00  \n",
       "n5                       7.000      11.00        70.00  \n",
       "n6                       7.000      11.00       132.00  \n",
       "n7                       7.000      10.00        79.00  \n",
       "n8                      13.000      19.00       128.00  \n",
       "n9                       5.000       7.00        45.00  \n",
       "n10                     11.000      14.00        82.00  \n",
       "n11                      0.000       0.00         4.00  \n",
       "n12                      0.000       0.00         4.00  \n",
       "n13                      0.000       0.00        39.00  \n",
       "n14                      2.000       3.00        30.00  "
      ]
     },
     "execution_count": 13,
     "metadata": {},
     "output_type": "execute_result"
    }
   ],
   "source": [
    "data_train.describe().T"
   ]
  },
  {
   "cell_type": "code",
   "execution_count": 14,
   "metadata": {},
   "outputs": [
    {
     "data": {
      "text/html": [
       "<div>\n",
       "<style scoped>\n",
       "    .dataframe tbody tr th:only-of-type {\n",
       "        vertical-align: middle;\n",
       "    }\n",
       "\n",
       "    .dataframe tbody tr th {\n",
       "        vertical-align: top;\n",
       "    }\n",
       "\n",
       "    .dataframe thead th {\n",
       "        text-align: right;\n",
       "    }\n",
       "</style>\n",
       "<table border=\"1\" class=\"dataframe\">\n",
       "  <thead>\n",
       "    <tr style=\"text-align: right;\">\n",
       "      <th></th>\n",
       "      <th>id</th>\n",
       "      <th>loanAmnt</th>\n",
       "      <th>term</th>\n",
       "      <th>interestRate</th>\n",
       "      <th>installment</th>\n",
       "      <th>grade</th>\n",
       "      <th>subGrade</th>\n",
       "      <th>employmentTitle</th>\n",
       "      <th>employmentLength</th>\n",
       "      <th>homeOwnership</th>\n",
       "      <th>...</th>\n",
       "      <th>n5</th>\n",
       "      <th>n6</th>\n",
       "      <th>n7</th>\n",
       "      <th>n8</th>\n",
       "      <th>n9</th>\n",
       "      <th>n10</th>\n",
       "      <th>n11</th>\n",
       "      <th>n12</th>\n",
       "      <th>n13</th>\n",
       "      <th>n14</th>\n",
       "    </tr>\n",
       "  </thead>\n",
       "  <tbody>\n",
       "    <tr>\n",
       "      <th>0</th>\n",
       "      <td>0</td>\n",
       "      <td>35000.0</td>\n",
       "      <td>5</td>\n",
       "      <td>19.52</td>\n",
       "      <td>917.97</td>\n",
       "      <td>E</td>\n",
       "      <td>E2</td>\n",
       "      <td>320.0</td>\n",
       "      <td>2 years</td>\n",
       "      <td>2</td>\n",
       "      <td>...</td>\n",
       "      <td>9.0</td>\n",
       "      <td>8.0</td>\n",
       "      <td>4.0</td>\n",
       "      <td>12.0</td>\n",
       "      <td>2.0</td>\n",
       "      <td>7.0</td>\n",
       "      <td>0.0</td>\n",
       "      <td>0.0</td>\n",
       "      <td>0.0</td>\n",
       "      <td>2.0</td>\n",
       "    </tr>\n",
       "    <tr>\n",
       "      <th>1</th>\n",
       "      <td>1</td>\n",
       "      <td>18000.0</td>\n",
       "      <td>5</td>\n",
       "      <td>18.49</td>\n",
       "      <td>461.90</td>\n",
       "      <td>D</td>\n",
       "      <td>D2</td>\n",
       "      <td>219843.0</td>\n",
       "      <td>5 years</td>\n",
       "      <td>0</td>\n",
       "      <td>...</td>\n",
       "      <td>NaN</td>\n",
       "      <td>NaN</td>\n",
       "      <td>NaN</td>\n",
       "      <td>NaN</td>\n",
       "      <td>NaN</td>\n",
       "      <td>13.0</td>\n",
       "      <td>NaN</td>\n",
       "      <td>NaN</td>\n",
       "      <td>NaN</td>\n",
       "      <td>NaN</td>\n",
       "    </tr>\n",
       "    <tr>\n",
       "      <th>2</th>\n",
       "      <td>2</td>\n",
       "      <td>12000.0</td>\n",
       "      <td>5</td>\n",
       "      <td>16.99</td>\n",
       "      <td>298.17</td>\n",
       "      <td>D</td>\n",
       "      <td>D3</td>\n",
       "      <td>31698.0</td>\n",
       "      <td>8 years</td>\n",
       "      <td>0</td>\n",
       "      <td>...</td>\n",
       "      <td>0.0</td>\n",
       "      <td>21.0</td>\n",
       "      <td>4.0</td>\n",
       "      <td>5.0</td>\n",
       "      <td>3.0</td>\n",
       "      <td>11.0</td>\n",
       "      <td>0.0</td>\n",
       "      <td>0.0</td>\n",
       "      <td>0.0</td>\n",
       "      <td>4.0</td>\n",
       "    </tr>\n",
       "    <tr>\n",
       "      <th>799997</th>\n",
       "      <td>799997</td>\n",
       "      <td>6000.0</td>\n",
       "      <td>3</td>\n",
       "      <td>13.33</td>\n",
       "      <td>203.12</td>\n",
       "      <td>C</td>\n",
       "      <td>C3</td>\n",
       "      <td>2582.0</td>\n",
       "      <td>10+ years</td>\n",
       "      <td>1</td>\n",
       "      <td>...</td>\n",
       "      <td>4.0</td>\n",
       "      <td>26.0</td>\n",
       "      <td>4.0</td>\n",
       "      <td>10.0</td>\n",
       "      <td>4.0</td>\n",
       "      <td>5.0</td>\n",
       "      <td>0.0</td>\n",
       "      <td>0.0</td>\n",
       "      <td>1.0</td>\n",
       "      <td>4.0</td>\n",
       "    </tr>\n",
       "    <tr>\n",
       "      <th>799998</th>\n",
       "      <td>799998</td>\n",
       "      <td>19200.0</td>\n",
       "      <td>3</td>\n",
       "      <td>6.92</td>\n",
       "      <td>592.14</td>\n",
       "      <td>A</td>\n",
       "      <td>A4</td>\n",
       "      <td>151.0</td>\n",
       "      <td>10+ years</td>\n",
       "      <td>0</td>\n",
       "      <td>...</td>\n",
       "      <td>10.0</td>\n",
       "      <td>6.0</td>\n",
       "      <td>12.0</td>\n",
       "      <td>22.0</td>\n",
       "      <td>8.0</td>\n",
       "      <td>16.0</td>\n",
       "      <td>0.0</td>\n",
       "      <td>0.0</td>\n",
       "      <td>0.0</td>\n",
       "      <td>5.0</td>\n",
       "    </tr>\n",
       "    <tr>\n",
       "      <th>799999</th>\n",
       "      <td>799999</td>\n",
       "      <td>9000.0</td>\n",
       "      <td>3</td>\n",
       "      <td>11.06</td>\n",
       "      <td>294.91</td>\n",
       "      <td>B</td>\n",
       "      <td>B3</td>\n",
       "      <td>13.0</td>\n",
       "      <td>5 years</td>\n",
       "      <td>0</td>\n",
       "      <td>...</td>\n",
       "      <td>3.0</td>\n",
       "      <td>4.0</td>\n",
       "      <td>4.0</td>\n",
       "      <td>8.0</td>\n",
       "      <td>3.0</td>\n",
       "      <td>7.0</td>\n",
       "      <td>0.0</td>\n",
       "      <td>0.0</td>\n",
       "      <td>0.0</td>\n",
       "      <td>2.0</td>\n",
       "    </tr>\n",
       "  </tbody>\n",
       "</table>\n",
       "<p>6 rows × 47 columns</p>\n",
       "</div>"
      ],
      "text/plain": [
       "            id  loanAmnt  term  interestRate  installment grade subGrade  \\\n",
       "0            0   35000.0     5         19.52       917.97     E       E2   \n",
       "1            1   18000.0     5         18.49       461.90     D       D2   \n",
       "2            2   12000.0     5         16.99       298.17     D       D3   \n",
       "799997  799997    6000.0     3         13.33       203.12     C       C3   \n",
       "799998  799998   19200.0     3          6.92       592.14     A       A4   \n",
       "799999  799999    9000.0     3         11.06       294.91     B       B3   \n",
       "\n",
       "        employmentTitle employmentLength  homeOwnership  ...    n5    n6  \\\n",
       "0                 320.0          2 years              2  ...   9.0   8.0   \n",
       "1              219843.0          5 years              0  ...   NaN   NaN   \n",
       "2               31698.0          8 years              0  ...   0.0  21.0   \n",
       "799997           2582.0        10+ years              1  ...   4.0  26.0   \n",
       "799998            151.0        10+ years              0  ...  10.0   6.0   \n",
       "799999             13.0          5 years              0  ...   3.0   4.0   \n",
       "\n",
       "          n7    n8   n9   n10  n11  n12  n13  n14  \n",
       "0        4.0  12.0  2.0   7.0  0.0  0.0  0.0  2.0  \n",
       "1        NaN   NaN  NaN  13.0  NaN  NaN  NaN  NaN  \n",
       "2        4.0   5.0  3.0  11.0  0.0  0.0  0.0  4.0  \n",
       "799997   4.0  10.0  4.0   5.0  0.0  0.0  1.0  4.0  \n",
       "799998  12.0  22.0  8.0  16.0  0.0  0.0  0.0  5.0  \n",
       "799999   4.0   8.0  3.0   7.0  0.0  0.0  0.0  2.0  \n",
       "\n",
       "[6 rows x 47 columns]"
      ]
     },
     "execution_count": 14,
     "metadata": {},
     "output_type": "execute_result"
    }
   ],
   "source": [
    "data_train.head(3).append(data_train.tail(3))"
   ]
  },
  {
   "cell_type": "markdown",
   "metadata": {},
   "source": [
    "### 查看数据集中特征缺失值，唯一值等"
   ]
  },
  {
   "cell_type": "code",
   "execution_count": 15,
   "metadata": {},
   "outputs": [
    {
     "name": "stdout",
     "output_type": "stream",
     "text": [
      "There are 22 columns in train dataset with missing values.\n"
     ]
    }
   ],
   "source": [
    "print(f'There are {data_train.isnull().any().sum()} columns in train dataset with missing values.')"
   ]
  },
  {
   "cell_type": "markdown",
   "metadata": {},
   "source": [
    "上面得到训练集有22列特征有缺失值，进一步查看缺失特征中缺失率大于50%的特征"
   ]
  },
  {
   "cell_type": "code",
   "execution_count": 16,
   "metadata": {},
   "outputs": [
    {
     "data": {
      "text/plain": [
       "{}"
      ]
     },
     "execution_count": 16,
     "metadata": {},
     "output_type": "execute_result"
    }
   ],
   "source": [
    "have_null_fea_dict = (data_train.isnull().sum()/len(data_train)).to_dict()\n",
    "fea_null_moreThanHalf = {}\n",
    "for key,value in have_null_fea_dict.items():\n",
    "    if value > 0.5:\n",
    "        fea_null_moreThanHalf[key] = value\n",
    "fea_null_moreThanHalf"
   ]
  },
  {
   "cell_type": "code",
   "execution_count": 18,
   "metadata": {},
   "outputs": [
    {
     "data": {
      "text/plain": [
       "<matplotlib.axes._subplots.AxesSubplot at 0x24480594490>"
      ]
     },
     "execution_count": 18,
     "metadata": {},
     "output_type": "execute_result"
    },
    {
     "data": {
      "image/png": "[encoded data removed]",
      "text/plain": [
       "<Figure size 432x288 with 1 Axes>"
      ]
     },
     "metadata": {
      "needs_background": "light"
     },
     "output_type": "display_data"
    }
   ],
   "source": [
    "#具体的查看缺失特征及缺失率\n",
    "# nan可视化\n",
    "missing = data_train.isnull().sum()/len(data_train)\n",
    "missing = missing[missing > 0]\n",
    "missing.sort_values(inplace=True)\n",
    "missing.plot.bar()"
   ]
  },
  {
   "cell_type": "markdown",
   "metadata": {},
   "source": [
    "* 纵向了解哪些列存在 “nan”, 并可以把nan的个数打印，主要的目的在于查看某一列nan存在的个数是否真的很大，如果nan存在的过多，说明这一列对label的影响几乎不起作用了，可以考虑删掉。如果缺失值很小一般可以选择填充。\n",
    "* 另外可以横向比较，如果在数据集中，某些样本数据的大部分列都是缺失的且样本足够的情况下可以考虑删除。"
   ]
  },
  {
   "cell_type": "code",
   "execution_count": 19,
   "metadata": {},
   "outputs": [
    {
     "data": {
      "text/plain": [
       "['policyCode']"
      ]
     },
     "execution_count": 19,
     "metadata": {},
     "output_type": "execute_result"
    }
   ],
   "source": [
    "#查看训练集测试集中特征属性只有一值的特征\n",
    "one_value_fea = [col for col in data_train.columns if data_train[col].nunique() <= 1]\n",
    "one_value_fea_test = [col for col in data_test_a.columns if data_test_a[col].nunique() <= 1]\n",
    "one_value_fea"
   ]
  },
  {
   "cell_type": "code",
   "execution_count": 20,
   "metadata": {},
   "outputs": [
    {
     "data": {
      "text/plain": [
       "['policyCode']"
      ]
     },
     "execution_count": 20,
     "metadata": {},
     "output_type": "execute_result"
    }
   ],
   "source": [
    "one_value_fea_test"
   ]
  },
  {
   "cell_type": "code",
   "execution_count": 21,
   "metadata": {},
   "outputs": [
    {
     "name": "stdout",
     "output_type": "stream",
     "text": [
      "There are 1 columns in train dataset with one unique value.\n",
      "There are 1 columns in test dataset with one unique value.\n"
     ]
    }
   ],
   "source": [
    "print(f'There are {len(one_value_fea)} columns in train dataset with one unique value.')\n",
    "print(f'There are {len(one_value_fea_test)} columns in test dataset with one unique value.')"
   ]
  },
  {
   "cell_type": "markdown",
   "metadata": {},
   "source": [
    "47列数据中有22列都缺少数据，这在现实世界中很正常。‘policyCode’具有一个唯一值（或全部缺失）。有很多连续变量和一些分类变量。"
   ]
  },
  {
   "cell_type": "markdown",
   "metadata": {},
   "source": [
    "### 查看特征的数值类型有哪些，对象类型有哪些"
   ]
  },
  {
   "cell_type": "markdown",
   "metadata": {},
   "source": [
    "* 特征一般都是由类别型特征和数值型特征组成，而数值型特征又分为连续型和离散型。\n",
    "* 类别型特征有时具有非数值关系，有时也具有数值关系。比如‘grade’中的等级A，B，C等，是否只是单纯的分类，还是A优于其他要结合业务判断。\n",
    "* 数值型特征本是可以直接入模的，但往往风控人员要对其做分箱，转化为WOE编码进而做标准评分卡等操作。从模型效果上来看，特征分箱主要是为了降低变量的复杂性，减少变量噪音对模型的影响，提高自变量和因变量的相关度。从而使模型更加稳定。"
   ]
  },
  {
   "cell_type": "code",
   "execution_count": 22,
   "metadata": {},
   "outputs": [],
   "source": [
    "numerical_fea = list(data_train.select_dtypes(exclude=['object']).columns)\n",
    "category_fea = list(filter(lambda x: x not in numerical_fea,list(data_train.columns)))"
   ]
  },
  {
   "cell_type": "code",
   "execution_count": 23,
   "metadata": {},
   "outputs": [
    {
     "data": {
      "text/plain": [
       "['id',\n",
       " 'loanAmnt',\n",
       " 'term',\n",
       " 'interestRate',\n",
       " 'installment',\n",
       " 'employmentTitle',\n",
       " 'homeOwnership',\n",
       " 'annualIncome',\n",
       " 'verificationStatus',\n",
       " 'isDefault',\n",
       " 'purpose',\n",
       " 'postCode',\n",
       " 'regionCode',\n",
       " 'dti',\n",
       " 'delinquency_2years',\n",
       " 'ficoRangeLow',\n",
       " 'ficoRangeHigh',\n",
       " 'openAcc',\n",
       " 'pubRec',\n",
       " 'pubRecBankruptcies',\n",
       " 'revolBal',\n",
       " 'revolUtil',\n",
       " 'totalAcc',\n",
       " 'initialListStatus',\n",
       " 'applicationType',\n",
       " 'title',\n",
       " 'policyCode',\n",
       " 'n0',\n",
       " 'n1',\n",
       " 'n2',\n",
       " 'n2.1',\n",
       " 'n4',\n",
       " 'n5',\n",
       " 'n6',\n",
       " 'n7',\n",
       " 'n8',\n",
       " 'n9',\n",
       " 'n10',\n",
       " 'n11',\n",
       " 'n12',\n",
       " 'n13',\n",
       " 'n14']"
      ]
     },
     "execution_count": 23,
     "metadata": {},
     "output_type": "execute_result"
    }
   ],
   "source": [
    "numerical_fea"
   ]
  },
  {
   "cell_type": "code",
   "execution_count": 24,
   "metadata": {},
   "outputs": [
    {
     "data": {
      "text/plain": [
       "['grade', 'subGrade', 'employmentLength', 'issueDate', 'earliesCreditLine']"
      ]
     },
     "execution_count": 24,
     "metadata": {},
     "output_type": "execute_result"
    }
   ],
   "source": [
    "category_fea"
   ]
  },
  {
   "cell_type": "code",
   "execution_count": 25,
   "metadata": {},
   "outputs": [
    {
     "data": {
      "text/plain": [
       "0         E\n",
       "1         D\n",
       "2         D\n",
       "3         A\n",
       "4         C\n",
       "         ..\n",
       "799995    C\n",
       "799996    A\n",
       "799997    C\n",
       "799998    A\n",
       "799999    B\n",
       "Name: grade, Length: 800000, dtype: object"
      ]
     },
     "execution_count": 25,
     "metadata": {},
     "output_type": "execute_result"
    }
   ],
   "source": [
    "data_train.grade"
   ]
  },
  {
   "cell_type": "markdown",
   "metadata": {},
   "source": [
    "### 数值型变量分析，数值型肯定是包括连续型变量和离散型变量的，找出来"
   ]
  },
  {
   "cell_type": "code",
   "execution_count": 26,
   "metadata": {},
   "outputs": [],
   "source": [
    "##过滤数值型类别特征\n",
    "def get_numerical_serial_fea(data,feas):\n",
    "    numerical_serial_fea = []\n",
    "    numerical_noserial_fea = []\n",
    "    for fea in feas:\n",
    "        temp = data[fea].nunique()\n",
    "        if temp <= 10:\n",
    "            numerical_noserial_fea.append(fea)\n",
    "            continue\n",
    "        numerical_serial_fea.append(fea)\n",
    "    return numerical_serial_fea,numerical_noserial_fea\n",
    "numerical_serial_fea,numerical_noserial_fea = get_numerical_serial_fea(data_train,numerical_fea)"
   ]
  },
  {
   "cell_type": "code",
   "execution_count": 27,
   "metadata": {},
   "outputs": [
    {
     "data": {
      "text/plain": [
       "['id',\n",
       " 'loanAmnt',\n",
       " 'interestRate',\n",
       " 'installment',\n",
       " 'employmentTitle',\n",
       " 'annualIncome',\n",
       " 'purpose',\n",
       " 'postCode',\n",
       " 'regionCode',\n",
       " 'dti',\n",
       " 'delinquency_2years',\n",
       " 'ficoRangeLow',\n",
       " 'ficoRangeHigh',\n",
       " 'openAcc',\n",
       " 'pubRec',\n",
       " 'pubRecBankruptcies',\n",
       " 'revolBal',\n",
       " 'revolUtil',\n",
       " 'totalAcc',\n",
       " 'title',\n",
       " 'n0',\n",
       " 'n1',\n",
       " 'n2',\n",
       " 'n2.1',\n",
       " 'n4',\n",
       " 'n5',\n",
       " 'n6',\n",
       " 'n7',\n",
       " 'n8',\n",
       " 'n9',\n",
       " 'n10',\n",
       " 'n13',\n",
       " 'n14']"
      ]
     },
     "execution_count": 27,
     "metadata": {},
     "output_type": "execute_result"
    }
   ],
   "source": [
    "numerical_serial_fea"
   ]
  },
  {
   "cell_type": "code",
   "execution_count": 28,
   "metadata": {},
   "outputs": [
    {
     "data": {
      "text/plain": [
       "['term',\n",
       " 'homeOwnership',\n",
       " 'verificationStatus',\n",
       " 'isDefault',\n",
       " 'initialListStatus',\n",
       " 'applicationType',\n",
       " 'policyCode',\n",
       " 'n11',\n",
       " 'n12']"
      ]
     },
     "execution_count": 28,
     "metadata": {},
     "output_type": "execute_result"
    }
   ],
   "source": [
    "numerical_noserial_fea"
   ]
  },
  {
   "cell_type": "code",
   "execution_count": 29,
   "metadata": {},
   "outputs": [
    {
     "data": {
      "text/plain": [
       "3    606902\n",
       "5    193098\n",
       "Name: term, dtype: int64"
      ]
     },
     "execution_count": 29,
     "metadata": {},
     "output_type": "execute_result"
    }
   ],
   "source": [
    "#数值类别型变量分析\n",
    "data_train['term'].value_counts()#离散型变量"
   ]
  },
  {
   "cell_type": "code",
   "execution_count": 30,
   "metadata": {},
   "outputs": [
    {
     "data": {
      "text/plain": [
       "0    395732\n",
       "1    317660\n",
       "2     86309\n",
       "3       185\n",
       "5        81\n",
       "4        33\n",
       "Name: homeOwnership, dtype: int64"
      ]
     },
     "execution_count": 30,
     "metadata": {},
     "output_type": "execute_result"
    }
   ],
   "source": [
    "data_train['homeOwnership'].value_counts()#离散型变量"
   ]
  },
  {
   "cell_type": "code",
   "execution_count": 31,
   "metadata": {},
   "outputs": [
    {
     "data": {
      "text/plain": [
       "1    309810\n",
       "2    248968\n",
       "0    241222\n",
       "Name: verificationStatus, dtype: int64"
      ]
     },
     "execution_count": 31,
     "metadata": {},
     "output_type": "execute_result"
    }
   ],
   "source": [
    "data_train['verificationStatus'].value_counts()#离散型变量"
   ]
  },
  {
   "cell_type": "code",
   "execution_count": 32,
   "metadata": {},
   "outputs": [
    {
     "data": {
      "text/plain": [
       "0    466438\n",
       "1    333562\n",
       "Name: initialListStatus, dtype: int64"
      ]
     },
     "execution_count": 32,
     "metadata": {},
     "output_type": "execute_result"
    }
   ],
   "source": [
    "data_train['initialListStatus'].value_counts()#离散型变量"
   ]
  },
  {
   "cell_type": "code",
   "execution_count": 33,
   "metadata": {},
   "outputs": [
    {
     "data": {
      "text/plain": [
       "0    784586\n",
       "1     15414\n",
       "Name: applicationType, dtype: int64"
      ]
     },
     "execution_count": 33,
     "metadata": {},
     "output_type": "execute_result"
    }
   ],
   "source": [
    "data_train['applicationType'].value_counts()#离散型变量"
   ]
  },
  {
   "cell_type": "code",
   "execution_count": 34,
   "metadata": {},
   "outputs": [
    {
     "data": {
      "text/plain": [
       "1.0    800000\n",
       "Name: policyCode, dtype: int64"
      ]
     },
     "execution_count": 34,
     "metadata": {},
     "output_type": "execute_result"
    }
   ],
   "source": [
    "data_train['policyCode'].value_counts()#离散型变量，无用，全部一个值"
   ]
  },
  {
   "cell_type": "code",
   "execution_count": 35,
   "metadata": {},
   "outputs": [
    {
     "data": {
      "text/plain": [
       "0.0    729682\n",
       "1.0       540\n",
       "2.0        24\n",
       "4.0         1\n",
       "3.0         1\n",
       "Name: n11, dtype: int64"
      ]
     },
     "execution_count": 35,
     "metadata": {},
     "output_type": "execute_result"
    }
   ],
   "source": [
    "data_train['n11'].value_counts()#离散型变量，相差悬殊，用不用再分析"
   ]
  },
  {
   "cell_type": "code",
   "execution_count": 36,
   "metadata": {},
   "outputs": [
    {
     "data": {
      "text/plain": [
       "0.0    757315\n",
       "1.0      2281\n",
       "2.0       115\n",
       "3.0        16\n",
       "4.0         3\n",
       "Name: n12, dtype: int64"
      ]
     },
     "execution_count": 36,
     "metadata": {},
     "output_type": "execute_result"
    }
   ],
   "source": [
    "data_train['n12'].value_counts()#离散型变量，相差悬殊，用不用再分析"
   ]
  },
  {
   "cell_type": "code",
   "execution_count": 37,
   "metadata": {},
   "outputs": [
    {
     "data": {
      "image/png": "[encoded data removed]",
      "text/plain": [
       "<Figure size 432x3672 with 33 Axes>"
      ]
     },
     "metadata": {
      "needs_background": "light"
     },
     "output_type": "display_data"
    }
   ],
   "source": [
    "#每个数字特征得分布可视化\n",
    "f = pd.melt(data_train, value_vars=numerical_serial_fea)\n",
    "g = sns.FacetGrid(f, col=\"variable\",  col_wrap=2, sharex=False, sharey=False)\n",
    "g = g.map(sns.distplot, \"value\")"
   ]
  },
  {
   "cell_type": "markdown",
   "metadata": {},
   "source": [
    "* 查看某一个数值型变量的分布，查看变量是否符合正态分布，如果不符合正太分布的变量可以log化后再观察下是否符合正态分布。\n",
    "* 如果想统一处理一批数据变标准化 必须把这些之前已经正态化的数据提出\n",
    "* 正态化的原因：一些情况下正态非正态可以让模型更快的收敛，一些模型要求数据正态（eg. GMM、KNN）,保证数据不要过偏态即可，过于偏态可能会影响模型预测结果。"
   ]
  },
  {
   "cell_type": "code",
   "execution_count": 38,
   "metadata": {},
   "outputs": [
    {
     "data": {
      "text/plain": [
       "Text(0, 0.5, 'Probability')"
      ]
     },
     "execution_count": 38,
     "metadata": {},
     "output_type": "execute_result"
    },
    {
     "data": {
      "image/png": "[encoded data removed]",
      "text/plain": [
       "<Figure size 1152x864 with 2 Axes>"
      ]
     },
     "metadata": {
      "needs_background": "light"
     },
     "output_type": "display_data"
    }
   ],
   "source": [
    "#Ploting Transaction Amount Values Distribution\n",
    "plt.figure(figsize=(16,12))\n",
    "plt.suptitle('Transaction Values Distribution', fontsize=22)\n",
    "plt.subplot(221)\n",
    "sub_plot_1 = sns.distplot(data_train['loanAmnt'])\n",
    "sub_plot_1.set_title(\"loanAmnt Distribuition\", fontsize=18)\n",
    "sub_plot_1.set_xlabel(\"\")\n",
    "sub_plot_1.set_ylabel(\"Probability\", fontsize=15)\n",
    "\n",
    "plt.subplot(222)\n",
    "sub_plot_2 = sns.distplot(np.log(data_train['loanAmnt']))\n",
    "sub_plot_2.set_title(\"loanAmnt (Log) Distribuition\", fontsize=18)\n",
    "sub_plot_2.set_xlabel(\"\")\n",
    "sub_plot_2.set_ylabel(\"Probability\", fontsize=15)"
   ]
  },
  {
   "cell_type": "code",
   "execution_count": 39,
   "metadata": {},
   "outputs": [
    {
     "data": {
      "text/plain": [
       "['grade', 'subGrade', 'employmentLength', 'issueDate', 'earliesCreditLine']"
      ]
     },
     "execution_count": 39,
     "metadata": {},
     "output_type": "execute_result"
    }
   ],
   "source": [
    "#非数值类别型变量分析\n",
    "category_fea"
   ]
  },
  {
   "cell_type": "code",
   "execution_count": 40,
   "metadata": {},
   "outputs": [
    {
     "data": {
      "text/plain": [
       "B    233690\n",
       "C    227118\n",
       "A    139661\n",
       "D    119453\n",
       "E     55661\n",
       "F     19053\n",
       "G      5364\n",
       "Name: grade, dtype: int64"
      ]
     },
     "execution_count": 40,
     "metadata": {},
     "output_type": "execute_result"
    }
   ],
   "source": [
    "data_train['grade'].value_counts()"
   ]
  },
  {
   "cell_type": "code",
   "execution_count": 41,
   "metadata": {},
   "outputs": [
    {
     "data": {
      "text/plain": [
       "C1    50763\n",
       "B4    49516\n",
       "B5    48965\n",
       "B3    48600\n",
       "C2    47068\n",
       "C3    44751\n",
       "C4    44272\n",
       "B2    44227\n",
       "B1    42382\n",
       "C5    40264\n",
       "A5    38045\n",
       "A4    30928\n",
       "D1    30538\n",
       "D2    26528\n",
       "A1    25909\n",
       "D3    23410\n",
       "A3    22655\n",
       "A2    22124\n",
       "D4    21139\n",
       "D5    17838\n",
       "E1    14064\n",
       "E2    12746\n",
       "E3    10925\n",
       "E4     9273\n",
       "E5     8653\n",
       "F1     5925\n",
       "F2     4340\n",
       "F3     3577\n",
       "F4     2859\n",
       "F5     2352\n",
       "G1     1759\n",
       "G2     1231\n",
       "G3      978\n",
       "G4      751\n",
       "G5      645\n",
       "Name: subGrade, dtype: int64"
      ]
     },
     "execution_count": 41,
     "metadata": {},
     "output_type": "execute_result"
    }
   ],
   "source": [
    "data_train['subGrade'].value_counts()"
   ]
  },
  {
   "cell_type": "code",
   "execution_count": 42,
   "metadata": {},
   "outputs": [
    {
     "data": {
      "text/plain": [
       "10+ years    262753\n",
       "2 years       72358\n",
       "< 1 year      64237\n",
       "3 years       64152\n",
       "1 year        52489\n",
       "5 years       50102\n",
       "4 years       47985\n",
       "6 years       37254\n",
       "8 years       36192\n",
       "7 years       35407\n",
       "9 years       30272\n",
       "Name: employmentLength, dtype: int64"
      ]
     },
     "execution_count": 42,
     "metadata": {},
     "output_type": "execute_result"
    }
   ],
   "source": [
    "data_train['employmentLength'].value_counts()"
   ]
  },
  {
   "cell_type": "code",
   "execution_count": 43,
   "metadata": {},
   "outputs": [
    {
     "data": {
      "text/plain": [
       "2016-03-01    29066\n",
       "2015-10-01    25525\n",
       "2015-07-01    24496\n",
       "2015-12-01    23245\n",
       "2014-10-01    21461\n",
       "              ...  \n",
       "2007-08-01       23\n",
       "2007-07-01       21\n",
       "2008-09-01       19\n",
       "2007-09-01        7\n",
       "2007-06-01        1\n",
       "Name: issueDate, Length: 139, dtype: int64"
      ]
     },
     "execution_count": 43,
     "metadata": {},
     "output_type": "execute_result"
    }
   ],
   "source": [
    "data_train['issueDate'].value_counts()"
   ]
  },
  {
   "cell_type": "code",
   "execution_count": 44,
   "metadata": {},
   "outputs": [
    {
     "data": {
      "text/plain": [
       "Aug-2001    5567\n",
       "Aug-2002    5403\n",
       "Sep-2003    5403\n",
       "Oct-2001    5258\n",
       "Aug-2000    5246\n",
       "            ... \n",
       "Mar-1957       1\n",
       "Feb-1960       1\n",
       "Oct-2015       1\n",
       "Dec-1960       1\n",
       "May-1960       1\n",
       "Name: earliesCreditLine, Length: 720, dtype: int64"
      ]
     },
     "execution_count": 44,
     "metadata": {},
     "output_type": "execute_result"
    }
   ],
   "source": [
    "data_train['earliesCreditLine'].value_counts()"
   ]
  },
  {
   "cell_type": "code",
   "execution_count": 45,
   "metadata": {},
   "outputs": [
    {
     "data": {
      "text/plain": [
       "0    640390\n",
       "1    159610\n",
       "Name: isDefault, dtype: int64"
      ]
     },
     "execution_count": 45,
     "metadata": {},
     "output_type": "execute_result"
    }
   ],
   "source": [
    "data_train['isDefault'].value_counts()"
   ]
  },
  {
   "cell_type": "markdown",
   "metadata": {},
   "source": [
    "* 上面我们用value_counts()等函数看了特征属性的分布，但是图表是概括原始信息最便捷的方式。\n",
    "* 数无形时少直觉。\n",
    "* 同一份数据集，在不同的尺度刻画上显示出来的图形反映的规律是不一样的。python将数据转化成图表，但结论是否正确需要由你保证。"
   ]
  },
  {
   "cell_type": "markdown",
   "metadata": {},
   "source": [
    "## 变量分布可视化"
   ]
  },
  {
   "cell_type": "code",
   "execution_count": 46,
   "metadata": {},
   "outputs": [
    {
     "data": {
      "image/png": "[encoded data removed]",
      "text/plain": [
       "<Figure size 576x576 with 1 Axes>"
      ]
     },
     "metadata": {
      "needs_background": "light"
     },
     "output_type": "display_data"
    }
   ],
   "source": [
    "#单一变量分布可视化\n",
    "plt.figure(figsize=(8, 8))\n",
    "sns.barplot(data_train[\"employmentLength\"].value_counts(dropna=False)[:20],\n",
    "            data_train[\"employmentLength\"].value_counts(dropna=False).keys()[:20])\n",
    "plt.show()"
   ]
  },
  {
   "cell_type": "code",
   "execution_count": 48,
   "metadata": {},
   "outputs": [
    {
     "data": {
      "image/png": "[encoded data removed]",
      "text/plain": [
       "<Figure size 1080x576 with 4 Axes>"
      ]
     },
     "metadata": {
      "needs_background": "light"
     },
     "output_type": "display_data"
    }
   ],
   "source": [
    "#根绝y值不同可视化x某个特征的分布\n",
    "#查看类别型变量在不同y值上的分布\n",
    "train_loan_fr = data_train.loc[data_train['isDefault'] == 1]\n",
    "train_loan_nofr = data_train.loc[data_train['isDefault'] == 0]\n",
    "fig, ((ax1, ax2), (ax3, ax4)) = plt.subplots(2, 2, figsize=(15, 8))\n",
    "train_loan_fr.groupby('grade')['grade'].count().plot(kind='barh', ax=ax1, title='Count of grade fraud')\n",
    "train_loan_nofr.groupby('grade')['grade'].count().plot(kind='barh', ax=ax2, title='Count of grade non-fraud')\n",
    "train_loan_fr.groupby('employmentLength')['employmentLength'].count().plot(kind='barh', ax=ax3, title='Count of employmentLength fraud')\n",
    "train_loan_nofr.groupby('employmentLength')['employmentLength'].count().plot(kind='barh', ax=ax4, title='Count of employmentLength non-fraud')\n",
    "plt.show()"
   ]
  },
  {
   "cell_type": "code",
   "execution_count": 49,
   "metadata": {},
   "outputs": [
    {
     "data": {
      "text/plain": [
       "<matplotlib.axes._subplots.AxesSubplot at 0x24496db2100>"
      ]
     },
     "execution_count": 49,
     "metadata": {},
     "output_type": "execute_result"
    },
    {
     "data": {
      "image/png": "[encoded data removed]",
      "text/plain": [
       "<Figure size 1080x432 with 2 Axes>"
      ]
     },
     "metadata": {
      "needs_background": "light"
     },
     "output_type": "display_data"
    }
   ],
   "source": [
    "#查看连续型变量在不同y值上的分布\n",
    "fig, ((ax1, ax2)) = plt.subplots(1, 2, figsize=(15, 6))\n",
    "data_train.loc[data_train['isDefault'] == 1] \\\n",
    "    ['loanAmnt'].apply(np.log) \\\n",
    "    .plot(kind='hist',\n",
    "          bins=100,\n",
    "          title='Log Loan Amt - Fraud',\n",
    "          color='r',\n",
    "          xlim=(-3, 10),\n",
    "         ax= ax1)\n",
    "data_train.loc[data_train['isDefault'] == 0] \\\n",
    "    ['loanAmnt'].apply(np.log) \\\n",
    "    .plot(kind='hist',\n",
    "          bins=100,\n",
    "          title='Log Loan Amt - Not Fraud',\n",
    "          color='b',\n",
    "          xlim=(-3, 10),\n",
    "         ax=ax2)"
   ]
  },
  {
   "cell_type": "code",
   "execution_count": 50,
   "metadata": {},
   "outputs": [
    {
     "data": {
      "image/png": "[encoded data removed]",
      "text/plain": [
       "<Figure size 864x360 with 2 Axes>"
      ]
     },
     "metadata": {
      "needs_background": "light"
     },
     "output_type": "display_data"
    }
   ],
   "source": [
    "total = len(data_train)\n",
    "total_amt = data_train.groupby(['isDefault'])['loanAmnt'].sum().sum()\n",
    "plt.figure(figsize=(12,5))\n",
    "plt.subplot(121)##1代表行，2代表列，所以一共有2个图，1代表此时绘制第一个图。\n",
    "plot_tr = sns.countplot(x='isDefault',data=data_train)#data_train‘isDefault’这个特征每种类别的数量**\n",
    "plot_tr.set_title(\"Fraud Loan Distribution \\n 0: good user | 1: bad user\", fontsize=14)\n",
    "plot_tr.set_xlabel(\"Is fraud by count\", fontsize=16)\n",
    "plot_tr.set_ylabel('Count', fontsize=16)\n",
    "for p in plot_tr.patches:\n",
    "    height = p.get_height()\n",
    "    plot_tr.text(p.get_x()+p.get_width()/2.,\n",
    "            height + 3,\n",
    "            '{:1.2f}%'.format(height/total*100),\n",
    "            ha=\"center\", fontsize=15) \n",
    "    \n",
    "percent_amt = (data_train.groupby(['isDefault'])['loanAmnt'].sum())\n",
    "percent_amt = percent_amt.reset_index()\n",
    "plt.subplot(122)\n",
    "plot_tr_2 = sns.barplot(x='isDefault', y='loanAmnt',  dodge=True, data=percent_amt)\n",
    "plot_tr_2.set_title(\"Total Amount in loanAmnt  \\n 0: good user | 1: bad user\", fontsize=14)\n",
    "plot_tr_2.set_xlabel(\"Is fraud by percent\", fontsize=16)\n",
    "plot_tr_2.set_ylabel('Total Loan Amount Scalar', fontsize=16)\n",
    "for p in plot_tr_2.patches:\n",
    "    height = p.get_height()\n",
    "    plot_tr_2.text(p.get_x()+p.get_width()/2.,\n",
    "            height + 3,\n",
    "            '{:1.2f}%'.format(height/total_amt * 100),\n",
    "            ha=\"center\", fontsize=15)     "
   ]
  },
  {
   "cell_type": "markdown",
   "metadata": {},
   "source": [
    "### 时间格式数据处理及查看"
   ]
  },
  {
   "cell_type": "code",
   "execution_count": 51,
   "metadata": {},
   "outputs": [
    {
     "data": {
      "image/png": "[encoded data removed]",
      "text/plain": [
       "<Figure size 432x288 with 1 Axes>"
      ]
     },
     "metadata": {
      "needs_background": "light"
     },
     "output_type": "display_data"
    }
   ],
   "source": [
    "#转化成时间格式  issueDateDT特征表示数据日期离数据集中日期最早的日期（2007-06-01）的天数\n",
    "data_train['issueDate'] = pd.to_datetime(data_train['issueDate'],format='%Y-%m-%d')\n",
    "startdate = datetime.datetime.strptime('2007-06-01', '%Y-%m-%d')\n",
    "data_train['issueDateDT'] = data_train['issueDate'].apply(lambda x: x-startdate).dt.days\n",
    "#转化成时间格式\n",
    "data_test_a['issueDate'] = pd.to_datetime(data_train['issueDate'],format='%Y-%m-%d')\n",
    "startdate = datetime.datetime.strptime('2007-06-01', '%Y-%m-%d')\n",
    "data_test_a['issueDateDT'] = data_test_a['issueDate'].apply(lambda x: x-startdate).dt.days\n",
    "plt.hist(data_train['issueDateDT'], label='train');\n",
    "plt.hist(data_test_a['issueDateDT'], label='test');\n",
    "plt.legend();\n",
    "plt.title('Distribution of issueDateDT dates');\n",
    "#train 和 test issueDateDT 日期有重叠 所以使用基于时间的分割进行验证是不明智的"
   ]
  },
  {
   "cell_type": "markdown",
   "metadata": {},
   "source": [
    "###  掌握透视图可以让我们更好的了解数据"
   ]
  },
  {
   "cell_type": "code",
   "execution_count": 52,
   "metadata": {},
   "outputs": [
    {
     "data": {
      "text/html": [
       "<div>\n",
       "<style scoped>\n",
       "    .dataframe tbody tr th:only-of-type {\n",
       "        vertical-align: middle;\n",
       "    }\n",
       "\n",
       "    .dataframe tbody tr th {\n",
       "        vertical-align: top;\n",
       "    }\n",
       "\n",
       "    .dataframe thead tr th {\n",
       "        text-align: left;\n",
       "    }\n",
       "\n",
       "    .dataframe thead tr:last-of-type th {\n",
       "        text-align: right;\n",
       "    }\n",
       "</style>\n",
       "<table border=\"1\" class=\"dataframe\">\n",
       "  <thead>\n",
       "    <tr>\n",
       "      <th></th>\n",
       "      <th colspan=\"21\" halign=\"left\">loanAmnt</th>\n",
       "    </tr>\n",
       "    <tr>\n",
       "      <th>issueDateDT</th>\n",
       "      <th>0</th>\n",
       "      <th>30</th>\n",
       "      <th>61</th>\n",
       "      <th>92</th>\n",
       "      <th>122</th>\n",
       "      <th>153</th>\n",
       "      <th>183</th>\n",
       "      <th>214</th>\n",
       "      <th>245</th>\n",
       "      <th>274</th>\n",
       "      <th>...</th>\n",
       "      <th>3926</th>\n",
       "      <th>3957</th>\n",
       "      <th>3987</th>\n",
       "      <th>4018</th>\n",
       "      <th>4048</th>\n",
       "      <th>4079</th>\n",
       "      <th>4110</th>\n",
       "      <th>4140</th>\n",
       "      <th>4171</th>\n",
       "      <th>4201</th>\n",
       "    </tr>\n",
       "    <tr>\n",
       "      <th>grade</th>\n",
       "      <th></th>\n",
       "      <th></th>\n",
       "      <th></th>\n",
       "      <th></th>\n",
       "      <th></th>\n",
       "      <th></th>\n",
       "      <th></th>\n",
       "      <th></th>\n",
       "      <th></th>\n",
       "      <th></th>\n",
       "      <th></th>\n",
       "      <th></th>\n",
       "      <th></th>\n",
       "      <th></th>\n",
       "      <th></th>\n",
       "      <th></th>\n",
       "      <th></th>\n",
       "      <th></th>\n",
       "      <th></th>\n",
       "      <th></th>\n",
       "      <th></th>\n",
       "    </tr>\n",
       "  </thead>\n",
       "  <tbody>\n",
       "    <tr>\n",
       "      <th>A</th>\n",
       "      <td>NaN</td>\n",
       "      <td>53650.0</td>\n",
       "      <td>42000.0</td>\n",
       "      <td>19500.0</td>\n",
       "      <td>34425.0</td>\n",
       "      <td>63950.0</td>\n",
       "      <td>43500.0</td>\n",
       "      <td>168825.0</td>\n",
       "      <td>85600.0</td>\n",
       "      <td>101825.0</td>\n",
       "      <td>...</td>\n",
       "      <td>13093850.0</td>\n",
       "      <td>11757325.0</td>\n",
       "      <td>11945975.0</td>\n",
       "      <td>9144000.0</td>\n",
       "      <td>7977650.0</td>\n",
       "      <td>6888900.0</td>\n",
       "      <td>5109800.0</td>\n",
       "      <td>3919275.0</td>\n",
       "      <td>2694025.0</td>\n",
       "      <td>2245625.0</td>\n",
       "    </tr>\n",
       "    <tr>\n",
       "      <th>B</th>\n",
       "      <td>NaN</td>\n",
       "      <td>13000.0</td>\n",
       "      <td>24000.0</td>\n",
       "      <td>32125.0</td>\n",
       "      <td>7025.0</td>\n",
       "      <td>95750.0</td>\n",
       "      <td>164300.0</td>\n",
       "      <td>303175.0</td>\n",
       "      <td>434425.0</td>\n",
       "      <td>538450.0</td>\n",
       "      <td>...</td>\n",
       "      <td>16863100.0</td>\n",
       "      <td>17275175.0</td>\n",
       "      <td>16217500.0</td>\n",
       "      <td>11431350.0</td>\n",
       "      <td>8967750.0</td>\n",
       "      <td>7572725.0</td>\n",
       "      <td>4884600.0</td>\n",
       "      <td>4329400.0</td>\n",
       "      <td>3922575.0</td>\n",
       "      <td>3257100.0</td>\n",
       "    </tr>\n",
       "    <tr>\n",
       "      <th>C</th>\n",
       "      <td>NaN</td>\n",
       "      <td>68750.0</td>\n",
       "      <td>8175.0</td>\n",
       "      <td>10000.0</td>\n",
       "      <td>61800.0</td>\n",
       "      <td>52550.0</td>\n",
       "      <td>175375.0</td>\n",
       "      <td>151100.0</td>\n",
       "      <td>243725.0</td>\n",
       "      <td>393150.0</td>\n",
       "      <td>...</td>\n",
       "      <td>17502375.0</td>\n",
       "      <td>17471500.0</td>\n",
       "      <td>16111225.0</td>\n",
       "      <td>11973675.0</td>\n",
       "      <td>10184450.0</td>\n",
       "      <td>7765000.0</td>\n",
       "      <td>5354450.0</td>\n",
       "      <td>4552600.0</td>\n",
       "      <td>2870050.0</td>\n",
       "      <td>2246250.0</td>\n",
       "    </tr>\n",
       "    <tr>\n",
       "      <th>D</th>\n",
       "      <td>NaN</td>\n",
       "      <td>NaN</td>\n",
       "      <td>5500.0</td>\n",
       "      <td>2850.0</td>\n",
       "      <td>28625.0</td>\n",
       "      <td>NaN</td>\n",
       "      <td>167975.0</td>\n",
       "      <td>171325.0</td>\n",
       "      <td>192900.0</td>\n",
       "      <td>269325.0</td>\n",
       "      <td>...</td>\n",
       "      <td>11403075.0</td>\n",
       "      <td>10964150.0</td>\n",
       "      <td>10747675.0</td>\n",
       "      <td>7082050.0</td>\n",
       "      <td>7189625.0</td>\n",
       "      <td>5195700.0</td>\n",
       "      <td>3455175.0</td>\n",
       "      <td>3038500.0</td>\n",
       "      <td>2452375.0</td>\n",
       "      <td>1771750.0</td>\n",
       "    </tr>\n",
       "    <tr>\n",
       "      <th>E</th>\n",
       "      <td>7500.0</td>\n",
       "      <td>NaN</td>\n",
       "      <td>10000.0</td>\n",
       "      <td>NaN</td>\n",
       "      <td>17975.0</td>\n",
       "      <td>1500.0</td>\n",
       "      <td>94375.0</td>\n",
       "      <td>116450.0</td>\n",
       "      <td>42000.0</td>\n",
       "      <td>139775.0</td>\n",
       "      <td>...</td>\n",
       "      <td>3983050.0</td>\n",
       "      <td>3410125.0</td>\n",
       "      <td>3107150.0</td>\n",
       "      <td>2341825.0</td>\n",
       "      <td>2225675.0</td>\n",
       "      <td>1643675.0</td>\n",
       "      <td>1091025.0</td>\n",
       "      <td>1131625.0</td>\n",
       "      <td>883950.0</td>\n",
       "      <td>802425.0</td>\n",
       "    </tr>\n",
       "    <tr>\n",
       "      <th>F</th>\n",
       "      <td>NaN</td>\n",
       "      <td>NaN</td>\n",
       "      <td>31250.0</td>\n",
       "      <td>2125.0</td>\n",
       "      <td>NaN</td>\n",
       "      <td>NaN</td>\n",
       "      <td>NaN</td>\n",
       "      <td>49000.0</td>\n",
       "      <td>27000.0</td>\n",
       "      <td>43000.0</td>\n",
       "      <td>...</td>\n",
       "      <td>1074175.0</td>\n",
       "      <td>868925.0</td>\n",
       "      <td>761675.0</td>\n",
       "      <td>685325.0</td>\n",
       "      <td>665750.0</td>\n",
       "      <td>685200.0</td>\n",
       "      <td>316700.0</td>\n",
       "      <td>315075.0</td>\n",
       "      <td>72300.0</td>\n",
       "      <td>NaN</td>\n",
       "    </tr>\n",
       "    <tr>\n",
       "      <th>G</th>\n",
       "      <td>NaN</td>\n",
       "      <td>NaN</td>\n",
       "      <td>NaN</td>\n",
       "      <td>NaN</td>\n",
       "      <td>NaN</td>\n",
       "      <td>NaN</td>\n",
       "      <td>NaN</td>\n",
       "      <td>24625.0</td>\n",
       "      <td>NaN</td>\n",
       "      <td>NaN</td>\n",
       "      <td>...</td>\n",
       "      <td>56100.0</td>\n",
       "      <td>243275.0</td>\n",
       "      <td>224825.0</td>\n",
       "      <td>64050.0</td>\n",
       "      <td>198575.0</td>\n",
       "      <td>245825.0</td>\n",
       "      <td>53125.0</td>\n",
       "      <td>23750.0</td>\n",
       "      <td>25100.0</td>\n",
       "      <td>1000.0</td>\n",
       "    </tr>\n",
       "  </tbody>\n",
       "</table>\n",
       "<p>7 rows × 139 columns</p>\n",
       "</div>"
      ],
      "text/plain": [
       "            loanAmnt                                                         \\\n",
       "issueDateDT     0        30       61       92       122      153       183    \n",
       "grade                                                                         \n",
       "A                NaN  53650.0  42000.0  19500.0  34425.0  63950.0   43500.0   \n",
       "B                NaN  13000.0  24000.0  32125.0   7025.0  95750.0  164300.0   \n",
       "C                NaN  68750.0   8175.0  10000.0  61800.0  52550.0  175375.0   \n",
       "D                NaN      NaN   5500.0   2850.0  28625.0      NaN  167975.0   \n",
       "E             7500.0      NaN  10000.0      NaN  17975.0   1500.0   94375.0   \n",
       "F                NaN      NaN  31250.0   2125.0      NaN      NaN       NaN   \n",
       "G                NaN      NaN      NaN      NaN      NaN      NaN       NaN   \n",
       "\n",
       "                                           ...                          \\\n",
       "issueDateDT      214       245       274   ...        3926        3957   \n",
       "grade                                      ...                           \n",
       "A            168825.0   85600.0  101825.0  ...  13093850.0  11757325.0   \n",
       "B            303175.0  434425.0  538450.0  ...  16863100.0  17275175.0   \n",
       "C            151100.0  243725.0  393150.0  ...  17502375.0  17471500.0   \n",
       "D            171325.0  192900.0  269325.0  ...  11403075.0  10964150.0   \n",
       "E            116450.0   42000.0  139775.0  ...   3983050.0   3410125.0   \n",
       "F             49000.0   27000.0   43000.0  ...   1074175.0    868925.0   \n",
       "G             24625.0       NaN       NaN  ...     56100.0    243275.0   \n",
       "\n",
       "                                                                       \\\n",
       "issueDateDT        3987        4018        4048       4079       4110   \n",
       "grade                                                                   \n",
       "A            11945975.0   9144000.0   7977650.0  6888900.0  5109800.0   \n",
       "B            16217500.0  11431350.0   8967750.0  7572725.0  4884600.0   \n",
       "C            16111225.0  11973675.0  10184450.0  7765000.0  5354450.0   \n",
       "D            10747675.0   7082050.0   7189625.0  5195700.0  3455175.0   \n",
       "E             3107150.0   2341825.0   2225675.0  1643675.0  1091025.0   \n",
       "F              761675.0    685325.0    665750.0   685200.0   316700.0   \n",
       "G              224825.0     64050.0    198575.0   245825.0    53125.0   \n",
       "\n",
       "                                              \n",
       "issueDateDT       4140       4171       4201  \n",
       "grade                                         \n",
       "A            3919275.0  2694025.0  2245625.0  \n",
       "B            4329400.0  3922575.0  3257100.0  \n",
       "C            4552600.0  2870050.0  2246250.0  \n",
       "D            3038500.0  2452375.0  1771750.0  \n",
       "E            1131625.0   883950.0   802425.0  \n",
       "F             315075.0    72300.0        NaN  \n",
       "G              23750.0    25100.0     1000.0  \n",
       "\n",
       "[7 rows x 139 columns]"
      ]
     },
     "execution_count": 52,
     "metadata": {},
     "output_type": "execute_result"
    }
   ],
   "source": [
    "#透视图 索引可以有多个，“columns（列）”是可选的，聚合函数aggfunc最后是被应用到了变量“values”中你所列举的项目上。\n",
    "pivot = pd.pivot_table(data_train, index=['grade'], columns=['issueDateDT'], values=['loanAmnt'], aggfunc=np.sum)\n",
    "pivot"
   ]
  },
  {
   "cell_type": "code",
   "execution_count": 53,
   "metadata": {},
   "outputs": [
    {
     "ename": "ModuleNotFoundError",
     "evalue": "No module named 'pandas_profiling'",
     "output_type": "error",
     "traceback": [
      "\u001b[1;31m---------------------------------------------------------------------------\u001b[0m",
      "\u001b[1;31mModuleNotFoundError\u001b[0m                       Traceback (most recent call last)",
      "\u001b[1;32m<ipython-input-53-949bc6d367bd>\u001b[0m in \u001b[0;36m<module>\u001b[1;34m\u001b[0m\n\u001b[0;32m      1\u001b[0m \u001b[1;31m# 用pandas_profiling生成数据报告\u001b[0m\u001b[1;33m\u001b[0m\u001b[1;33m\u001b[0m\u001b[1;33m\u001b[0m\u001b[0m\n\u001b[1;32m----> 2\u001b[1;33m \u001b[1;32mimport\u001b[0m \u001b[0mpandas_profiling\u001b[0m\u001b[1;33m\u001b[0m\u001b[1;33m\u001b[0m\u001b[0m\n\u001b[0m\u001b[0;32m      3\u001b[0m \u001b[0mpfr\u001b[0m \u001b[1;33m=\u001b[0m \u001b[0mpandas_profiling\u001b[0m\u001b[1;33m.\u001b[0m\u001b[0mProfileReport\u001b[0m\u001b[1;33m(\u001b[0m\u001b[0mdata_train\u001b[0m\u001b[1;33m)\u001b[0m\u001b[1;33m\u001b[0m\u001b[1;33m\u001b[0m\u001b[0m\n\u001b[0;32m      4\u001b[0m \u001b[0mpfr\u001b[0m\u001b[1;33m.\u001b[0m\u001b[0mto_file\u001b[0m\u001b[1;33m(\u001b[0m\u001b[1;34m\"./example.html\"\u001b[0m\u001b[1;33m)\u001b[0m\u001b[1;33m\u001b[0m\u001b[1;33m\u001b[0m\u001b[0m\n",
      "\u001b[1;31mModuleNotFoundError\u001b[0m: No module named 'pandas_profiling'"
     ]
    }
   ],
   "source": [
    "# 用pandas_profiling生成数据报告\n",
    "import pandas_profiling\n",
    "pfr = pandas_profiling.ProfileReport(data_train)\n",
    "pfr.to_file(\"./example.html\")"
   ]
  },
  {
   "cell_type": "markdown",
   "metadata": {},
   "source": [
    "数据探索性分析是我们初步了解数据，熟悉数据为特征工程做准备的阶段，甚至很多时候EDA阶段提取出来的特征可以直接当作规则来用。可见EDA的重要性，这个阶段的主要工作还是借助于各个简单的统计量来对数据整体的了解，分析各个类型变量相互之间的关系，以及用合适的图形可视化出来直观观察。希望本节内容能给初学者带来帮助，更期待各位学习者对其中的不足提出建议。"
   ]
  }
 ],
 "metadata": {
  "kernelspec": {
   "display_name": "Python 3",
   "language": "python",
   "name": "python3"
  },
  "language_info": {
   "codemirror_mode": {
    "name": "ipython",
    "version": 3
   },
   "file_extension": ".py",
   "mimetype": "text/x-python",
   "name": "python",
   "nbconvert_exporter": "python",
   "pygments_lexer": "ipython3",
   "version": "3.8.5"
  }
 },
 "nbformat": 4,
 "nbformat_minor": 4
}
