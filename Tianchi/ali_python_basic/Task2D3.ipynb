{
 "cells": [
  {
   "cell_type": "markdown",
   "metadata": {},
   "source": [
    "\n",
    "# 集合\n",
    "\n",
    "Python 中`set`与`dict`类似，也是一组`key`的集合，但不存储`value`。由于`key`不能重复，所以，在`set`中，没有重复的`key`。\n",
    "\n",
    "注意，`key`为不可变类型，即可哈希的值。\n",
    "\n",
    "【例子】"
   ]
  },
  {
   "cell_type": "code",
   "execution_count": 1,
   "metadata": {},
   "outputs": [
    {
     "name": "stdout",
     "output_type": "stream",
     "text": [
      "<class 'dict'>\n",
      "<class 'set'>\n"
     ]
    }
   ],
   "source": [
    "num = {}\n",
    "print(type(num))  # <class 'dict'>\n",
    "num = {1, 2, 3, 4}\n",
    "print(type(num))  # <class 'set'>"
   ]
  },
  {
   "cell_type": "markdown",
   "metadata": {},
   "source": [
    "\n",
    "## 1. 集合的创建\n",
    "\n",
    "- 先创建对象再加入元素。\n",
    "- 在创建空集合的时候只能使用`s = set()`，因为`s = {}`创建的是空字典。\n",
    "\n",
    "【例子】"
   ]
  },
  {
   "cell_type": "code",
   "execution_count": 2,
   "metadata": {},
   "outputs": [
    {
     "name": "stdout",
     "output_type": "stream",
     "text": [
      "{'apple', 'banana'}\n"
     ]
    }
   ],
   "source": [
    "basket = set()\n",
    "basket.add('apple')\n",
    "basket.add('banana')\n",
    "print(basket)  # {'banana', 'apple'}"
   ]
  },
  {
   "cell_type": "markdown",
   "metadata": {},
   "source": [
    "\n",
    "- 直接把一堆元素用花括号括起来`{元素1, 元素2, ..., 元素n}`。\n",
    "- 重复元素在`set`中会被自动被过滤。\n",
    "\n",
    "【例子】"
   ]
  },
  {
   "cell_type": "code",
   "execution_count": 3,
   "metadata": {},
   "outputs": [
    {
     "name": "stdout",
     "output_type": "stream",
     "text": [
      "{'apple', 'banana', 'pear', 'orange'}\n"
     ]
    }
   ],
   "source": [
    "basket = {'apple', 'orange', 'apple', 'pear', 'orange', 'banana'}\n",
    "print(basket)  # {'banana', 'apple', 'pear', 'orange'}"
   ]
  },
  {
   "cell_type": "markdown",
   "metadata": {},
   "source": [
    "\n",
    "- 使用`set(value)`工厂函数，把列表或元组转换成集合。\n",
    "\n",
    "【例子】"
   ]
  },
  {
   "cell_type": "code",
   "execution_count": 4,
   "metadata": {},
   "outputs": [
    {
     "name": "stdout",
     "output_type": "stream",
     "text": [
      "{'r', 'b', 'c', 'd', 'a'}\n",
      "{'Taobao', 'Google', 'Lsgogroup'}\n",
      "{'Taobao', 'Google', 'Lsgogroup'}\n"
     ]
    }
   ],
   "source": [
    "a = set('abracadabra')\n",
    "print(a)  \n",
    "# {'r', 'b', 'd', 'c', 'a'}\n",
    "\n",
    "b = set((\"Google\", \"Lsgogroup\", \"Taobao\", \"Taobao\"))\n",
    "print(b)  \n",
    "# {'Taobao', 'Lsgogroup', 'Google'}\n",
    "\n",
    "c = set([\"Google\", \"Lsgogroup\", \"Taobao\", \"Google\"])\n",
    "print(c)  \n",
    "# {'Taobao', 'Lsgogroup', 'Google'}"
   ]
  },
  {
   "cell_type": "markdown",
   "metadata": {},
   "source": [
    "\n",
    "【例子】去掉列表中重复的元素"
   ]
  },
  {
   "cell_type": "code",
   "execution_count": 5,
   "metadata": {},
   "outputs": [
    {
     "name": "stdout",
     "output_type": "stream",
     "text": [
      "[0, 1, 2, 3, 4, 5]\n",
      "[0, 1, 2, 3, 4, 5]\n"
     ]
    }
   ],
   "source": [
    "lst = [0, 1, 2, 3, 4, 5, 5, 3, 1]\n",
    "\n",
    "temp = []\n",
    "for item in lst:\n",
    "    if item not in temp:\n",
    "        temp.append(item)\n",
    "\n",
    "print(temp)  # [0, 1, 2, 3, 4, 5]\n",
    "\n",
    "a = set(lst)\n",
    "print(list(a))  # [0, 1, 2, 3, 4, 5]"
   ]
  },
  {
   "cell_type": "markdown",
   "metadata": {},
   "source": [
    "\n",
    "从结果发现集合的两个特点：无序 (unordered) 和唯一 (unique)。\n",
    "\n",
    "由于 `set` 存储的是无序集合，所以我们不可以为集合创建索引或执行切片(slice)操作，也没有键(keys)可用来获取集合中元素的值，但是可以判断一个元素是否在集合中。\n",
    "\n",
    "\n",
    "\n",
    "\n",
    "## 2. 访问集合中的值\n",
    "\n",
    "- 可以使用`len()`內建函数得到集合的大小。\n",
    "\n",
    "【例子】"
   ]
  },
  {
   "cell_type": "code",
   "execution_count": 6,
   "metadata": {},
   "outputs": [
    {
     "name": "stdout",
     "output_type": "stream",
     "text": [
      "3\n"
     ]
    }
   ],
   "source": [
    "s = set(['Google', 'Baidu', 'Taobao'])\n",
    "print(len(s))  # 3"
   ]
  },
  {
   "cell_type": "markdown",
   "metadata": {},
   "source": [
    "\n",
    "- 可以使用`for`把集合中的数据一个个读取出来。\n",
    "\n",
    "【例子】"
   ]
  },
  {
   "cell_type": "code",
   "execution_count": 7,
   "metadata": {},
   "outputs": [
    {
     "name": "stdout",
     "output_type": "stream",
     "text": [
      "Taobao\n",
      "Google\n",
      "Baidu\n"
     ]
    }
   ],
   "source": [
    "s = set(['Google', 'Baidu', 'Taobao'])\n",
    "for item in s:\n",
    "    print(item)\n",
    "    \n",
    "# Baidu\n",
    "# Google\n",
    "# Taobao"
   ]
  },
  {
   "cell_type": "markdown",
   "metadata": {},
   "source": [
    "\n",
    "- 可以通过`in`或`not in`判断一个元素是否在集合中已经存在\n",
    "\n",
    "【例子】"
   ]
  },
  {
   "cell_type": "code",
   "execution_count": 8,
   "metadata": {},
   "outputs": [
    {
     "name": "stdout",
     "output_type": "stream",
     "text": [
      "True\n",
      "True\n"
     ]
    }
   ],
   "source": [
    "s = set(['Google', 'Baidu', 'Taobao'])\n",
    "print('Taobao' in s)  # True\n",
    "print('Facebook' not in s)  # True"
   ]
  },
  {
   "cell_type": "markdown",
   "metadata": {},
   "source": [
    "\n",
    "## 3. 集合的内置方法\n",
    "\n",
    "- `set.add(elmnt)`用于给集合添加元素，如果添加的元素在集合中已存在，则不执行任何操作。\n",
    "\n",
    "【例子】"
   ]
  },
  {
   "cell_type": "code",
   "execution_count": 9,
   "metadata": {},
   "outputs": [
    {
     "name": "stdout",
     "output_type": "stream",
     "text": [
      "{'apple', 'cherry', 'banana', 'orange'}\n",
      "{'apple', 'cherry', 'banana', 'orange'}\n"
     ]
    }
   ],
   "source": [
    "fruits = {\"apple\", \"banana\", \"cherry\"}\n",
    "fruits.add(\"orange\")\n",
    "print(fruits)  \n",
    "# {'orange', 'cherry', 'banana', 'apple'}\n",
    "\n",
    "fruits.add(\"apple\")\n",
    "print(fruits)  \n",
    "# {'orange', 'cherry', 'banana', 'apple'}"
   ]
  },
  {
   "cell_type": "markdown",
   "metadata": {},
   "source": [
    "\n",
    "- `set.update(set)`用于修改当前集合，可以添加新的元素或集合到当前集合中，如果添加的元素在集合中已存在，则该元素只会出现一次，重复的会忽略。\n",
    "\n",
    "【例子】"
   ]
  },
  {
   "cell_type": "code",
   "execution_count": 10,
   "metadata": {},
   "outputs": [
    {
     "name": "stdout",
     "output_type": "stream",
     "text": [
      "{'baidu', 'apple', 'cherry', 'banana', 'google'}\n",
      "{'baidu', 'apple', 'lsgo', 'dreamtech', 'google'}\n"
     ]
    }
   ],
   "source": [
    "x = {\"apple\", \"banana\", \"cherry\"}\n",
    "y = {\"google\", \"baidu\", \"apple\"}\n",
    "x.update(y)\n",
    "print(x)\n",
    "# {'cherry', 'banana', 'apple', 'google', 'baidu'}\n",
    "\n",
    "y.update([\"lsgo\", \"dreamtech\"])\n",
    "print(y)\n",
    "# {'lsgo', 'baidu', 'dreamtech', 'apple', 'google'}"
   ]
  },
  {
   "cell_type": "markdown",
   "metadata": {},
   "source": [
    "\n",
    "\n",
    "- `set.remove(item)` 用于移除集合中的指定元素。如果元素不存在，则会发生错误。\n",
    "\n",
    "【例子】"
   ]
  },
  {
   "cell_type": "code",
   "execution_count": 11,
   "metadata": {},
   "outputs": [
    {
     "name": "stdout",
     "output_type": "stream",
     "text": [
      "{'apple', 'cherry'}\n"
     ]
    }
   ],
   "source": [
    "fruits = {\"apple\", \"banana\", \"cherry\"}\n",
    "fruits.remove(\"banana\")\n",
    "print(fruits)  # {'apple', 'cherry'}"
   ]
  },
  {
   "cell_type": "markdown",
   "metadata": {},
   "source": [
    "\n",
    "- `set.discard(value)` 用于移除指定的集合元素。`remove()` 方法在移除一个不存在的元素时会发生错误，而 `discard()` 方法不会。\n",
    "\n",
    "【例子】"
   ]
  },
  {
   "cell_type": "code",
   "execution_count": 12,
   "metadata": {},
   "outputs": [
    {
     "name": "stdout",
     "output_type": "stream",
     "text": [
      "{'apple', 'cherry'}\n"
     ]
    }
   ],
   "source": [
    "fruits = {\"apple\", \"banana\", \"cherry\"}\n",
    "fruits.discard(\"banana\")\n",
    "print(fruits)  # {'apple', 'cherry'}"
   ]
  },
  {
   "cell_type": "markdown",
   "metadata": {},
   "source": [
    "\n",
    "- `set.pop()` 用于随机移除一个元素。\n",
    "\n",
    "【例子】"
   ]
  },
  {
   "cell_type": "code",
   "execution_count": 13,
   "metadata": {},
   "outputs": [
    {
     "name": "stdout",
     "output_type": "stream",
     "text": [
      "{'cherry', 'banana'}\n",
      "apple\n"
     ]
    }
   ],
   "source": [
    "fruits = {\"apple\", \"banana\", \"cherry\"}\n",
    "x = fruits.pop()\n",
    "print(fruits)  # {'cherry', 'apple'}\n",
    "print(x)  # banana"
   ]
  },
  {
   "cell_type": "markdown",
   "metadata": {},
   "source": [
    "由于 set 是无序和无重复元素的集合，所以两个或多个 set 可以做数学意义上的集合操作。\n",
    "- `set.intersection(set1, set2)` 返回两个集合的交集。\n",
    "- `set1 & set2` 返回两个集合的交集。\n",
    "- `set.intersection_update(set1, set2)` 交集，在原始的集合上移除不重叠的元素。\n",
    "\n",
    "【例子】"
   ]
  },
  {
   "cell_type": "code",
   "execution_count": 14,
   "metadata": {},
   "outputs": [
    {
     "name": "stdout",
     "output_type": "stream",
     "text": [
      "{'r', 'b', 'c', 'd', 'a'}\n",
      "{'m', 'c', 'l', 'z', 'a'}\n",
      "{'a', 'c'}\n",
      "{'a', 'c'}\n",
      "{'r', 'b', 'c', 'd', 'a'}\n",
      "{'a', 'c'}\n"
     ]
    }
   ],
   "source": [
    "a = set('abracadabra')\n",
    "b = set('alacazam')\n",
    "print(a)  # {'r', 'a', 'c', 'b', 'd'}\n",
    "print(b)  # {'c', 'a', 'l', 'm', 'z'}\n",
    "\n",
    "c = a.intersection(b)\n",
    "print(c)  # {'a', 'c'}\n",
    "print(a & b)  # {'c', 'a'}\n",
    "print(a)  # {'a', 'r', 'c', 'b', 'd'}\n",
    "\n",
    "a.intersection_update(b)\n",
    "print(a)  # {'a', 'c'}"
   ]
  },
  {
   "cell_type": "markdown",
   "metadata": {},
   "source": [
    "- `set.union(set1, set2)` 返回两个集合的并集。\n",
    "- `set1 | set2` 返回两个集合的并集。\n",
    "\n",
    "【例子】"
   ]
  },
  {
   "cell_type": "code",
   "execution_count": 15,
   "metadata": {},
   "outputs": [
    {
     "name": "stdout",
     "output_type": "stream",
     "text": [
      "{'r', 'b', 'c', 'd', 'a'}\n",
      "{'m', 'c', 'l', 'z', 'a'}\n",
      "{'r', 'b', 'm', 'c', 'l', 'z', 'd', 'a'}\n",
      "{'r', 'b', 'm', 'c', 'l', 'z', 'd', 'a'}\n"
     ]
    }
   ],
   "source": [
    "a = set('abracadabra')\n",
    "b = set('alacazam')\n",
    "print(a)  # {'r', 'a', 'c', 'b', 'd'}\n",
    "print(b)  # {'c', 'a', 'l', 'm', 'z'}\n",
    "\n",
    "print(a | b)  \n",
    "# {'l', 'd', 'm', 'b', 'a', 'r', 'z', 'c'}\n",
    "\n",
    "c = a.union(b)\n",
    "print(c)  \n",
    "# {'c', 'a', 'd', 'm', 'r', 'b', 'z', 'l'}"
   ]
  },
  {
   "cell_type": "markdown",
   "metadata": {},
   "source": [
    "\n",
    "- `set.difference(set)` 返回集合的差集。\n",
    "- `set1 - set2` 返回集合的差集。\n",
    "- `set.difference_update(set)` 集合的差集，直接在原来的集合中移除元素，没有返回值。\n",
    "\n",
    "【例子】"
   ]
  },
  {
   "cell_type": "code",
   "execution_count": 16,
   "metadata": {},
   "outputs": [
    {
     "name": "stdout",
     "output_type": "stream",
     "text": [
      "{'r', 'b', 'c', 'd', 'a'}\n",
      "{'m', 'c', 'l', 'z', 'a'}\n",
      "{'r', 'b', 'd'}\n",
      "{'r', 'b', 'd'}\n",
      "{'r', 'b', 'c', 'd', 'a'}\n",
      "{'r', 'b', 'd'}\n"
     ]
    }
   ],
   "source": [
    "a = set('abracadabra')\n",
    "b = set('alacazam')\n",
    "print(a)  # {'r', 'a', 'c', 'b', 'd'}\n",
    "print(b)  # {'c', 'a', 'l', 'm', 'z'}\n",
    "\n",
    "c = a.difference(b)\n",
    "print(c)  # {'b', 'd', 'r'}\n",
    "print(a - b)  # {'d', 'b', 'r'}\n",
    "\n",
    "print(a)  # {'r', 'd', 'c', 'a', 'b'}\n",
    "a.difference_update(b)\n",
    "print(a)  # {'d', 'r', 'b'}"
   ]
  },
  {
   "cell_type": "markdown",
   "metadata": {},
   "source": [
    "\n",
    "\n",
    "- `set.symmetric_difference(set)`返回集合的异或。\n",
    "- `set1 ^ set2` 返回集合的异或。\n",
    "- `set.symmetric_difference_update(set)`移除当前集合中在另外一个指定集合相同的元素，并将另外一个指定集合中不同的元素插入到当前集合中。\n",
    "\n",
    "【例子】"
   ]
  },
  {
   "cell_type": "code",
   "execution_count": 17,
   "metadata": {},
   "outputs": [
    {
     "name": "stdout",
     "output_type": "stream",
     "text": [
      "{'r', 'b', 'c', 'd', 'a'}\n",
      "{'m', 'c', 'l', 'z', 'a'}\n",
      "{'r', 'b', 'z', 'm', 'l', 'd'}\n",
      "{'r', 'b', 'z', 'm', 'l', 'd'}\n",
      "{'r', 'b', 'c', 'd', 'a'}\n",
      "{'r', 'b', 'm', 'l', 'z', 'd'}\n"
     ]
    }
   ],
   "source": [
    "a = set('abracadabra')\n",
    "b = set('alacazam')\n",
    "print(a)  # {'r', 'a', 'c', 'b', 'd'}\n",
    "print(b)  # {'c', 'a', 'l', 'm', 'z'}\n",
    "\n",
    "c = a.symmetric_difference(b)\n",
    "print(c)  # {'m', 'r', 'l', 'b', 'z', 'd'}\n",
    "print(a ^ b)  # {'m', 'r', 'l', 'b', 'z', 'd'}\n",
    "\n",
    "print(a)  # {'r', 'd', 'c', 'a', 'b'}\n",
    "a.symmetric_difference_update(b)\n",
    "print(a)  # {'r', 'b', 'm', 'l', 'z', 'd'}"
   ]
  },
  {
   "cell_type": "markdown",
   "metadata": {},
   "source": [
    "\n",
    "- `set.issubset(set)`判断集合是不是被其他集合包含，如果是则返回 True，否则返回 False。\n",
    "- `set1 <= set2` 判断集合是不是被其他集合包含，如果是则返回 True，否则返回 False。\n",
    "\n",
    "【例子】"
   ]
  },
  {
   "cell_type": "code",
   "execution_count": 18,
   "metadata": {},
   "outputs": [
    {
     "name": "stdout",
     "output_type": "stream",
     "text": [
      "True\n",
      "True\n",
      "False\n",
      "False\n"
     ]
    }
   ],
   "source": [
    "x = {\"a\", \"b\", \"c\"}\n",
    "y = {\"f\", \"e\", \"d\", \"c\", \"b\", \"a\"}\n",
    "z = x.issubset(y)\n",
    "print(z)  # True\n",
    "print(x <= y)  # True\n",
    "\n",
    "x = {\"a\", \"b\", \"c\"}\n",
    "y = {\"f\", \"e\", \"d\", \"c\", \"b\"}\n",
    "z = x.issubset(y)\n",
    "print(z)  # False\n",
    "print(x <= y)  # False"
   ]
  },
  {
   "cell_type": "markdown",
   "metadata": {},
   "source": [
    "\n",
    "- `set.issuperset(set)`用于判断集合是不是包含其他集合，如果是则返回 True，否则返回 False。\n",
    "- `set1 >= set2` 判断集合是不是包含其他集合，如果是则返回 True，否则返回 False。\n",
    "\n",
    "【例子】"
   ]
  },
  {
   "cell_type": "code",
   "execution_count": 19,
   "metadata": {},
   "outputs": [
    {
     "name": "stdout",
     "output_type": "stream",
     "text": [
      "True\n",
      "True\n",
      "False\n",
      "False\n"
     ]
    }
   ],
   "source": [
    "x = {\"f\", \"e\", \"d\", \"c\", \"b\", \"a\"}\n",
    "y = {\"a\", \"b\", \"c\"}\n",
    "z = x.issuperset(y)\n",
    "print(z)  # True\n",
    "print(x >= y)  # True\n",
    "\n",
    "x = {\"f\", \"e\", \"d\", \"c\", \"b\"}\n",
    "y = {\"a\", \"b\", \"c\"}\n",
    "z = x.issuperset(y)\n",
    "print(z)  # False\n",
    "print(x >= y)  # False"
   ]
  },
  {
   "cell_type": "markdown",
   "metadata": {},
   "source": [
    "- `set.isdisjoint(set)` 用于判断两个集合是不是不相交，如果是返回 True，否则返回 False。\n",
    "\n",
    "【例子】"
   ]
  },
  {
   "cell_type": "code",
   "execution_count": 20,
   "metadata": {},
   "outputs": [
    {
     "name": "stdout",
     "output_type": "stream",
     "text": [
      "False\n",
      "True\n"
     ]
    }
   ],
   "source": [
    "x = {\"f\", \"e\", \"d\", \"c\", \"b\"}\n",
    "y = {\"a\", \"b\", \"c\"}\n",
    "z = x.isdisjoint(y)\n",
    "print(z)  # False\n",
    "\n",
    "x = {\"f\", \"e\", \"d\", \"m\", \"g\"}\n",
    "y = {\"a\", \"b\", \"c\"}\n",
    "z = x.isdisjoint(y)\n",
    "print(z)  # True"
   ]
  },
  {
   "cell_type": "markdown",
   "metadata": {},
   "source": [
    "## 4. 集合的转换\n",
    "\n",
    "【例子】"
   ]
  },
  {
   "cell_type": "code",
   "execution_count": 21,
   "metadata": {},
   "outputs": [
    {
     "name": "stdout",
     "output_type": "stream",
     "text": [
      "{0, 1, 2, 3} <class 'set'>\n",
      "[0, 1, 2, 3] <class 'list'>\n",
      "(0, 1, 2, 3) <class 'tuple'>\n"
     ]
    }
   ],
   "source": [
    "se = set(range(4))\n",
    "li = list(se)\n",
    "tu = tuple(se)\n",
    "\n",
    "print(se, type(se))  # {0, 1, 2, 3} <class 'set'>\n",
    "print(li, type(li))  # [0, 1, 2, 3] <class 'list'>\n",
    "print(tu, type(tu))  # (0, 1, 2, 3) <class 'tuple'>"
   ]
  },
  {
   "cell_type": "markdown",
   "metadata": {},
   "source": [
    "## 5. 不可变集合\n",
    "\n",
    "Python 提供了不能改变元素的集合的实现版本，即不能增加或删除元素，类型名叫`frozenset`。需要注意的是`frozenset`仍然可以进行集合操作，只是不能用带有`update`的方法。\n",
    "\n",
    "- `frozenset([iterable])` 返回一个冻结的集合，冻结后集合不能再添加或删除任何元素。\n",
    "\n",
    "【例子】"
   ]
  },
  {
   "cell_type": "code",
   "execution_count": 22,
   "metadata": {},
   "outputs": [
    {
     "name": "stdout",
     "output_type": "stream",
     "text": [
      "frozenset({0, 1, 2, 3, 4, 5, 6, 7, 8, 9})\n",
      "frozenset({'r', 's', 'g', 'l', 'p', 'u', 'o'})\n"
     ]
    }
   ],
   "source": [
    "a = frozenset(range(10))  # 生成一个新的不可变集合\n",
    "print(a)  \n",
    "# frozenset({0, 1, 2, 3, 4, 5, 6, 7, 8, 9})\n",
    "\n",
    "b = frozenset('lsgogroup')\n",
    "print(b)  \n",
    "# frozenset({'g', 's', 'p', 'r', 'u', 'o', 'l'})"
   ]
  },
  {
   "cell_type": "markdown",
   "metadata": {},
   "source": [
    "# 序列\n",
    "\n",
    "在 Python 中，序列类型包括字符串、列表、元组、集合和字典，这些序列支持一些通用的操作，但比较特殊的是，集合和字典不支持索引、切片、相加和相乘操作。\n",
    "\n",
    "## 1. 针对序列的内置函数\n",
    "\n",
    "- `list(sub)` 把一个可迭代对象转换为列表。\n",
    "\n",
    "【例子】"
   ]
  },
  {
   "cell_type": "code",
   "execution_count": 23,
   "metadata": {},
   "outputs": [
    {
     "name": "stdout",
     "output_type": "stream",
     "text": [
      "[]\n",
      "['I', ' ', 'L', 'o', 'v', 'e', ' ', 'L', 's', 'g', 'o', 'G', 'r', 'o', 'u', 'p']\n",
      "[1, 1, 2, 3, 5, 8]\n"
     ]
    }
   ],
   "source": [
    "a = list()\n",
    "print(a)  # []\n",
    "\n",
    "b = 'I Love LsgoGroup'\n",
    "b = list(b)\n",
    "print(b)  \n",
    "# ['I', ' ', 'L', 'o', 'v', 'e', ' ', 'L', 's', 'g', 'o', 'G', 'r', 'o', 'u', 'p']\n",
    "\n",
    "c = (1, 1, 2, 3, 5, 8)\n",
    "c = list(c)\n",
    "print(c)  # [1, 1, 2, 3, 5, 8]"
   ]
  },
  {
   "cell_type": "markdown",
   "metadata": {},
   "source": [
    "\n",
    "\n",
    "- `tuple(sub)` 把一个可迭代对象转换为元组。\n",
    "\n",
    "【例子】"
   ]
  },
  {
   "cell_type": "code",
   "execution_count": 24,
   "metadata": {},
   "outputs": [
    {
     "name": "stdout",
     "output_type": "stream",
     "text": [
      "()\n",
      "('I', ' ', 'L', 'o', 'v', 'e', ' ', 'L', 's', 'g', 'o', 'G', 'r', 'o', 'u', 'p')\n",
      "(1, 1, 2, 3, 5, 8)\n"
     ]
    }
   ],
   "source": [
    "a = tuple()\n",
    "print(a)  # ()\n",
    "\n",
    "b = 'I Love LsgoGroup'\n",
    "b = tuple(b)\n",
    "print(b)  \n",
    "# ('I', ' ', 'L', 'o', 'v', 'e', ' ', 'L', 's', 'g', 'o', 'G', 'r', 'o', 'u', 'p')\n",
    "\n",
    "c = [1, 1, 2, 3, 5, 8]\n",
    "c = tuple(c)\n",
    "print(c)  # (1, 1, 2, 3, 5, 8)"
   ]
  },
  {
   "cell_type": "markdown",
   "metadata": {},
   "source": [
    "\n",
    "- `str(obj)` 把obj对象转换为字符串\n",
    "\n",
    "【例子】"
   ]
  },
  {
   "cell_type": "code",
   "execution_count": 25,
   "metadata": {},
   "outputs": [
    {
     "name": "stdout",
     "output_type": "stream",
     "text": [
      "123\n"
     ]
    }
   ],
   "source": [
    "a = 123\n",
    "a = str(a)\n",
    "print(a)  # 123"
   ]
  },
  {
   "cell_type": "markdown",
   "metadata": {},
   "source": [
    "\n",
    "- `len(s)` 返回对象（字符、列表、元组等）长度或元素个数。\n",
    "    - `s` -- 对象。\n",
    "\n",
    "【例子】"
   ]
  },
  {
   "cell_type": "code",
   "execution_count": 26,
   "metadata": {},
   "outputs": [
    {
     "name": "stdout",
     "output_type": "stream",
     "text": [
      "0\n",
      "16\n",
      "16\n"
     ]
    }
   ],
   "source": [
    "a = list()\n",
    "print(len(a))  # 0\n",
    "\n",
    "b = ('I', ' ', 'L', 'o', 'v', 'e', ' ', 'L', 's', 'g', 'o', 'G', 'r', 'o', 'u', 'p')\n",
    "print(len(b))  # 16\n",
    "\n",
    "c = 'I Love LsgoGroup'\n",
    "print(len(c))  # 16"
   ]
  },
  {
   "cell_type": "markdown",
   "metadata": {},
   "source": [
    "\n",
    "- `max(sub)`返回序列或者参数集合中的最大值\n",
    "\n",
    "【例子】"
   ]
  },
  {
   "cell_type": "code",
   "execution_count": 27,
   "metadata": {},
   "outputs": [
    {
     "name": "stdout",
     "output_type": "stream",
     "text": [
      "5\n",
      "99\n",
      "v\n"
     ]
    }
   ],
   "source": [
    "print(max(1, 2, 3, 4, 5))  # 5\n",
    "print(max([-8, 99, 3, 7, 83]))  # 99\n",
    "print(max('IloveLsgoGroup'))  # v"
   ]
  },
  {
   "cell_type": "markdown",
   "metadata": {},
   "source": [
    "\n",
    "\n",
    "- `min(sub)`返回序列或参数集合中的最小值\n",
    "\n",
    "【例子】"
   ]
  },
  {
   "cell_type": "code",
   "execution_count": 28,
   "metadata": {},
   "outputs": [
    {
     "name": "stdout",
     "output_type": "stream",
     "text": [
      "1\n",
      "-8\n",
      "G\n"
     ]
    }
   ],
   "source": [
    "print(min(1, 2, 3, 4, 5))  # 1\n",
    "print(min([-8, 99, 3, 7, 83]))  # -8\n",
    "print(min('IloveLsgoGroup'))  # G"
   ]
  },
  {
   "cell_type": "markdown",
   "metadata": {},
   "source": [
    "\n",
    "- `sum(iterable[, start=0])` 返回序列`iterable`与可选参数`start`的总和。\n",
    "\n",
    "【例子】"
   ]
  },
  {
   "cell_type": "code",
   "execution_count": 29,
   "metadata": {},
   "outputs": [
    {
     "name": "stdout",
     "output_type": "stream",
     "text": [
      "25\n",
      "35\n",
      "25\n",
      "45\n"
     ]
    }
   ],
   "source": [
    "print(sum([1, 3, 5, 7, 9]))  # 25\n",
    "print(sum([1, 3, 5, 7, 9], 10))  # 35\n",
    "print(sum((1, 3, 5, 7, 9)))  # 25\n",
    "print(sum((1, 3, 5, 7, 9), 20))  # 45"
   ]
  },
  {
   "cell_type": "markdown",
   "metadata": {},
   "source": [
    "\n",
    "\n",
    "- `sorted(iterable, key=None, reverse=False) ` 对所有可迭代的对象进行排序操作。\n",
    "    - `iterable` -- 可迭代对象。\n",
    "    - `key` -- 主要是用来进行比较的元素，只有一个参数，具体的函数的参数就是取自于可迭代对象中，指定可迭代对象中的一个元素来进行排序。\n",
    "    - `reverse` -- 排序规则，`reverse = True` 降序 ， `reverse = False` 升序（默认）。\n",
    "    - 返回重新排序的列表。\n",
    "\n",
    "【例子】"
   ]
  },
  {
   "cell_type": "code",
   "execution_count": 30,
   "metadata": {},
   "outputs": [
    {
     "name": "stdout",
     "output_type": "stream",
     "text": [
      "[-8, 3, 7, 83, 99]\n",
      "[99, 83, 7, 3, -8]\n",
      "[{'age': 10, 'name': 'c'}, {'age': 20, 'name': 'a'}, {'age': 25, 'name': 'b'}]\n"
     ]
    }
   ],
   "source": [
    "x = [-8, 99, 3, 7, 83]\n",
    "print(sorted(x))  # [-8, 3, 7, 83, 99]\n",
    "print(sorted(x, reverse=True))  # [99, 83, 7, 3, -8]\n",
    "\n",
    "t = ({\"age\": 20, \"name\": \"a\"}, {\"age\": 25, \"name\": \"b\"}, {\"age\": 10, \"name\": \"c\"})\n",
    "x = sorted(t, key=lambda a: a[\"age\"])\n",
    "print(x)\n",
    "# [{'age': 10, 'name': 'c'}, {'age': 20, 'name': 'a'}, {'age': 25, 'name': 'b'}]"
   ]
  },
  {
   "cell_type": "markdown",
   "metadata": {},
   "source": [
    "\n",
    "\n",
    "- `reversed(seq)` 函数返回一个反转的迭代器。\n",
    "    - `seq` -- 要转换的序列，可以是 tuple, string, list 或 range。\n",
    "\n",
    "【例子】"
   ]
  },
  {
   "cell_type": "code",
   "execution_count": 31,
   "metadata": {},
   "outputs": [
    {
     "name": "stdout",
     "output_type": "stream",
     "text": [
      "<class 'reversed'>\n",
      "<reversed object at 0x000001C9F4CCB2B0>\n",
      "['p', 'u', 'o', 'r', 'g', 'o', 'g', 's', 'l']\n",
      "['p', 'u', 'o', 'r', 'g', 'o', 'g', 's', 'l']\n",
      "[8, 7, 6, 5]\n",
      "[83, 7, 3, 99, -8]\n"
     ]
    }
   ],
   "source": [
    "s = 'lsgogroup'\n",
    "x = reversed(s)\n",
    "print(type(x))  # <class 'reversed'>\n",
    "print(x)  # <reversed object at 0x000002507E8EC2C8>\n",
    "print(list(x))\n",
    "# ['p', 'u', 'o', 'r', 'g', 'o', 'g', 's', 'l']\n",
    "\n",
    "t = ('l', 's', 'g', 'o', 'g', 'r', 'o', 'u', 'p')\n",
    "print(list(reversed(t)))\n",
    "# ['p', 'u', 'o', 'r', 'g', 'o', 'g', 's', 'l']\n",
    "\n",
    "r = range(5, 9)\n",
    "print(list(reversed(r)))\n",
    "# [8, 7, 6, 5]\n",
    "\n",
    "x = [-8, 99, 3, 7, 83]\n",
    "print(list(reversed(x)))\n",
    "# [83, 7, 3, 99, -8]"
   ]
  },
  {
   "cell_type": "markdown",
   "metadata": {},
   "source": [
    "\n",
    "\n",
    "- `enumerate(sequence, [start=0])`\n",
    "\n",
    "\n",
    "\n",
    "【例子】用于将一个可遍历的数据对象(如列表、元组或字符串)组合为一个索引序列，同时列出数据和数据下标，一般用在 for 循环当中。"
   ]
  },
  {
   "cell_type": "code",
   "execution_count": 32,
   "metadata": {},
   "outputs": [
    {
     "name": "stdout",
     "output_type": "stream",
     "text": [
      "[(0, 'Spring'), (1, 'Summer'), (2, 'Fall'), (3, 'Winter')]\n",
      "[(1, 'Spring'), (2, 'Summer'), (3, 'Fall'), (4, 'Winter')]\n",
      "0,Spring\n",
      "1,Summer\n",
      "2,Fall\n",
      "3,Winter\n"
     ]
    }
   ],
   "source": [
    "seasons = ['Spring', 'Summer', 'Fall', 'Winter']\n",
    "a = list(enumerate(seasons))\n",
    "print(a)  \n",
    "# [(0, 'Spring'), (1, 'Summer'), (2, 'Fall'), (3, 'Winter')]\n",
    "\n",
    "b = list(enumerate(seasons, 1))\n",
    "print(b)  \n",
    "# [(1, 'Spring'), (2, 'Summer'), (3, 'Fall'), (4, 'Winter')]\n",
    "\n",
    "for i, element in a:\n",
    "    print('{0},{1}'.format(i, element))\n",
    "# 0,Spring\n",
    "# 1,Summer\n",
    "# 2,Fall\n",
    "# 3,Winter"
   ]
  },
  {
   "cell_type": "markdown",
   "metadata": {},
   "source": [
    "\n",
    "- `zip(iter1 [,iter2 [...]])`\n",
    "    - 用于将可迭代的对象作为参数，将对象中对应的元素打包成一个个元组，然后返回由这些元组组成的对象，这样做的好处是节约了不少的内存。\n",
    "    - 我们可以使用 `list()` 转换来输出列表。\n",
    "    - 如果各个迭代器的元素个数不一致，则返回列表长度与最短的对象相同，利用 `*` 号操作符，可以将元组解压为列表。\n",
    "\n",
    "【例子】"
   ]
  },
  {
   "cell_type": "code",
   "execution_count": 33,
   "metadata": {},
   "outputs": [
    {
     "name": "stdout",
     "output_type": "stream",
     "text": [
      "<zip object at 0x000001C9F4CFFF00>\n",
      "[(1, 4), (2, 5), (3, 6)]\n",
      "[(1, 4), (2, 5), (3, 6)]\n",
      "[1, 2, 3]\n",
      "[4, 5, 6]\n"
     ]
    }
   ],
   "source": [
    "a = [1, 2, 3]\n",
    "b = [4, 5, 6]\n",
    "c = [4, 5, 6, 7, 8]\n",
    "\n",
    "zipped = zip(a, b)\n",
    "print(zipped)  # <zip object at 0x000000C5D89EDD88>\n",
    "print(list(zipped))  # [(1, 4), (2, 5), (3, 6)]\n",
    "zipped = zip(a, c)\n",
    "print(list(zipped))  # [(1, 4), (2, 5), (3, 6)]\n",
    "\n",
    "a1, a2 = zip(*zip(a, b))\n",
    "print(list(a1))  # [1, 2, 3]\n",
    "print(list(a2))  # [4, 5, 6]"
   ]
  }
 ],
 "metadata": {
  "kernelspec": {
   "display_name": "Python 3",
   "language": "python",
   "name": "python3"
  },
  "language_info": {
   "codemirror_mode": {
    "name": "ipython",
    "version": 3
   },
   "file_extension": ".py",
   "mimetype": "text/x-python",
   "name": "python",
   "nbconvert_exporter": "python",
   "pygments_lexer": "ipython3",
   "version": "3.8.5"
  }
 },
 "nbformat": 4,
 "nbformat_minor": 4
}
