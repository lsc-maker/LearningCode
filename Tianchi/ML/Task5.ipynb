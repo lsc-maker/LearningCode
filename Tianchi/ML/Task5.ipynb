{
 "cells": [
  {
   "cell_type": "markdown",
   "metadata": {},
   "source": [
    "### 模拟离散数据集--贝叶斯分类\n",
    "**Step1: 库函数导入**\n",
    "    + Step2: 数据导入&分析 \n",
    "    + Step3: 模型训练&可视化\n",
    "    + Step4: 原理简析"
   ]
  },
  {
   "cell_type": "code",
   "execution_count": 1,
   "metadata": {},
   "outputs": [],
   "source": [
    "import random\n",
    "import numpy as np\n",
    "# 使用基于类目特征的朴素贝叶斯\n",
    "from sklearn.naive_bayes import CategoricalNB\n",
    "from sklearn.model_selection import train_test_split"
   ]
  },
  {
   "cell_type": "markdown",
   "metadata": {},
   "source": [
    "**Step2: 数据导入&分析**"
   ]
  },
  {
   "cell_type": "code",
   "execution_count": 2,
   "metadata": {},
   "outputs": [],
   "source": [
    "# 模拟数据\n",
    "rng = np.random.RandomState(1)\n",
    "# 随机生成600个100维的数据，每一维的特征都是[0, 4]之前的整数\n",
    "X = rng.randint(5, size=(600, 100))\n",
    "y = np.array([1, 2, 3, 4, 5, 6] * 100)\n",
    "data = np.c_[X, y]\n",
    "# X和y进行整体打散\n",
    "random.shuffle(data)\n",
    "X = data[:,:-1]\n",
    "y = data[:, -1]\n",
    "X_train, X_test, y_train, y_test = train_test_split(X, y, test_size=0.2, random_state=0)"
   ]
  },
  {
   "cell_type": "markdown",
   "metadata": {},
   "source": [
    "所有的数据特征都是离散特征，我们引入基于离散特征的朴素贝叶斯分类器。\n",
    "\n",
    "**Step3: 模型训练&预测**"
   ]
  },
  {
   "cell_type": "code",
   "execution_count": 3,
   "metadata": {},
   "outputs": [
    {
     "name": "stdout",
     "output_type": "stream",
     "text": [
      "Test Acc : 0.700\n"
     ]
    }
   ],
   "source": [
    "clf = CategoricalNB(alpha=1)\n",
    "clf.fit(X_train, y_train)\n",
    "acc = clf.score(X_test, y_test)\n",
    "print(\"Test Acc : %.3f\" % acc)"
   ]
  },
  {
   "cell_type": "code",
   "execution_count": 4,
   "metadata": {},
   "outputs": [
    {
     "name": "stdout",
     "output_type": "stream",
     "text": [
      "[[4.97034914e-05 2.19890600e-04 5.32810859e-02 8.93300593e-01\n",
      "  3.04569959e-02 2.26917313e-02]]\n",
      "[4]\n"
     ]
    }
   ],
   "source": [
    "# 随机数据测试，分析预测结果，贝叶斯会选择概率最大的预测结果\n",
    "# 比如这里的预测结果是6，6对应的概率最大，由于我们是随机数据\n",
    "# 读者运行的时候，可能会出现不一样的结果。\n",
    "x = rng.randint(5, size=(1, 100))\n",
    "print(clf.predict_proba(x))\n",
    "print(clf.predict(x))"
   ]
  }
 ],
 "metadata": {
  "kernelspec": {
   "display_name": "Pytorch-1.4.0",
   "language": "python",
   "name": "pytorch-1.4.0"
  },
  "language_info": {
   "codemirror_mode": {
    "name": "ipython",
    "version": 3
   },
   "file_extension": ".py",
   "mimetype": "text/x-python",
   "name": "python",
   "nbconvert_exporter": "python",
   "pygments_lexer": "ipython3",
   "version": "3.6.4"
  }
 },
 "nbformat": 4,
 "nbformat_minor": 4
}
