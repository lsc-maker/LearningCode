{
 "cells": [
  {
   "cell_type": "markdown",
   "metadata": {
    "id": "B48C7F3C41FA4D7EA4DEAC48D0BE4F7B",
    "mdEditEnable": false
   },
   "source": [
    "## 算法实战"
   ]
  },
  {
   "cell_type": "markdown",
   "metadata": {},
   "source": [
    "**Step1:库函数导入**"
   ]
  },
  {
   "cell_type": "code",
   "execution_count": 1,
   "metadata": {},
   "outputs": [],
   "source": [
    "##  基础函数库\n",
    "import numpy as np \n",
    "\n",
    "## 导入画图库\n",
    "import matplotlib.pyplot as plt\n",
    "import seaborn as sns\n",
    "\n",
    "## 导入逻辑回归模型函数\n",
    "from sklearn.linear_model import LogisticRegression"
   ]
  },
  {
   "cell_type": "markdown",
   "metadata": {},
   "source": [
    "**Step2:模型训练**"
   ]
  },
  {
   "cell_type": "code",
   "execution_count": 2,
   "metadata": {},
   "outputs": [],
   "source": [
    "##Demo演示LogisticRegression分类\n",
    "\n",
    "## 构造数据集\n",
    "x_fearures = np.array([[-1, -2], [-2, -1], [-3, -2], [1, 3], [2, 1], [3, 2]])\n",
    "y_label = np.array([0, 0, 0, 1, 1, 1])\n",
    "\n",
    "## 调用逻辑回归模型\n",
    "lr_clf = LogisticRegression()\n",
    "\n",
    "## 用逻辑回归模型拟合构造的数据集\n",
    "lr_clf = lr_clf.fit(x_fearures, y_label) #其拟合方程为 y=w0+w1*x1+w2*x2"
   ]
  },
  {
   "cell_type": "code",
   "execution_count": 8,
   "metadata": {},
   "outputs": [
    {
     "data": {
      "text/plain": [
       "LogisticRegression(C=1.0, class_weight=None, dual=False, fit_intercept=True,\n",
       "          intercept_scaling=1, max_iter=100, multi_class='ovr', n_jobs=1,\n",
       "          penalty='l2', random_state=None, solver='liblinear', tol=0.0001,\n",
       "          verbose=0, warm_start=False)"
      ]
     },
     "execution_count": 8,
     "metadata": {},
     "output_type": "execute_result"
    }
   ],
   "source": [
    "lr_clf"
   ]
  },
  {
   "cell_type": "markdown",
   "metadata": {},
   "source": [
    "**Step3:模型参数查看**"
   ]
  },
  {
   "cell_type": "code",
   "execution_count": 3,
   "metadata": {},
   "outputs": [
    {
     "name": "stdout",
     "output_type": "stream",
     "text": [
      "the weight of Logistic Regression: [[0.73462087 0.6947908 ]]\n",
      "the intercept(w0) of Logistic Regression: [-0.03643213]\n"
     ]
    }
   ],
   "source": [
    "## 查看其对应模型的w\n",
    "print('the weight of Logistic Regression:',lr_clf.coef_)\n",
    "\n",
    "## 查看其对应模型的w0\n",
    "print('the intercept(w0) of Logistic Regression:',lr_clf.intercept_)"
   ]
  },
  {
   "cell_type": "markdown",
   "metadata": {},
   "source": [
    "**Step4:数据和模型可视化**"
   ]
  },
  {
   "cell_type": "code",
   "execution_count": 4,
   "metadata": {},
   "outputs": [
    {
     "data": {
      "image/png": "[encoded data removed]",
      "text/plain": [
       "<matplotlib.figure.Figure at 0x7fc83806a8d0>"
      ]
     },
     "metadata": {},
     "output_type": "display_data"
    }
   ],
   "source": [
    "## 可视化构造的数据样本点\n",
    "plt.figure()\n",
    "plt.scatter(x_fearures[:,0],x_fearures[:,1], c=y_label, s=50, cmap='viridis')\n",
    "plt.title('Dataset')\n",
    "plt.show()"
   ]
  },
  {
   "cell_type": "code",
   "execution_count": 5,
   "metadata": {},
   "outputs": [
    {
     "data": {
      "image/png": "[encoded data removed]",
      "text/plain": [
       "<matplotlib.figure.Figure at 0x7fc7d00df400>"
      ]
     },
     "metadata": {},
     "output_type": "display_data"
    }
   ],
   "source": [
    "# 可视化决策边界\n",
    "plt.figure()\n",
    "plt.scatter(x_fearures[:,0],x_fearures[:,1], c=y_label, s=50, cmap='viridis')\n",
    "plt.title('Dataset')\n",
    "\n",
    "nx, ny = 200, 100\n",
    "x_min, x_max = plt.xlim()\n",
    "y_min, y_max = plt.ylim()\n",
    "x_grid, y_grid = np.meshgrid(np.linspace(x_min, x_max, nx),np.linspace(y_min, y_max, ny))\n",
    "\n",
    "z_proba = lr_clf.predict_proba(np.c_[x_grid.ravel(), y_grid.ravel()])\n",
    "z_proba = z_proba[:, 1].reshape(x_grid.shape)\n",
    "plt.contour(x_grid, y_grid, z_proba, [0.5], linewidths=2., colors='blue')\n",
    "\n",
    "plt.show()"
   ]
  },
  {
   "cell_type": "code",
   "execution_count": 6,
   "metadata": {},
   "outputs": [
    {
     "data": {
      "image/png": "[encoded data removed]",
      "text/plain": [
       "<matplotlib.figure.Figure at 0x7fc7d007c2e8>"
      ]
     },
     "metadata": {},
     "output_type": "display_data"
    }
   ],
   "source": [
    "### 可视化预测新样本\n",
    "\n",
    "plt.figure()\n",
    "## new point 1\n",
    "x_fearures_new1 = np.array([[0, -1]])\n",
    "plt.scatter(x_fearures_new1[:,0],x_fearures_new1[:,1], s=50, cmap='viridis')\n",
    "plt.annotate(s='New point 1',xy=(0,-1),xytext=(-2,0),color='blue',arrowprops=dict(arrowstyle='-|>',connectionstyle='arc3',color='red'))\n",
    "\n",
    "## new point 2\n",
    "x_fearures_new2 = np.array([[1, 2]])\n",
    "plt.scatter(x_fearures_new2[:,0],x_fearures_new2[:,1], s=50, cmap='viridis')\n",
    "plt.annotate(s='New point 2',xy=(1,2),xytext=(-1.5,2.5),color='red',arrowprops=dict(arrowstyle='-|>',connectionstyle='arc3',color='red'))\n",
    "\n",
    "## 训练样本\n",
    "plt.scatter(x_fearures[:,0],x_fearures[:,1], c=y_label, s=50, cmap='viridis')\n",
    "plt.title('Dataset')\n",
    "\n",
    "# 可视化决策边界\n",
    "plt.contour(x_grid, y_grid, z_proba, [0.5], linewidths=2., colors='blue')\n",
    "\n",
    "plt.show()"
   ]
  },
  {
   "cell_type": "markdown",
   "metadata": {},
   "source": [
    "**Step5:模型预测**"
   ]
  },
  {
   "cell_type": "code",
   "execution_count": 7,
   "metadata": {},
   "outputs": [
    {
     "name": "stdout",
     "output_type": "stream",
     "text": [
      "The New point 1 predict class:\n",
      " [0]\n",
      "The New point 2 predict class:\n",
      " [1]\n",
      "The New point 1 predict Probability of each class:\n",
      " [[0.67507358 0.32492642]]\n",
      "The New point 2 predict Probability of each class:\n",
      " [[0.11029117 0.88970883]]\n"
     ]
    }
   ],
   "source": [
    "## 在训练集和测试集上分布利用训练好的模型进行预测\n",
    "y_label_new1_predict = lr_clf.predict(x_fearures_new1)\n",
    "y_label_new2_predict = lr_clf.predict(x_fearures_new2)\n",
    "\n",
    "print('The New point 1 predict class:\\n',y_label_new1_predict)\n",
    "print('The New point 2 predict class:\\n',y_label_new2_predict)\n",
    "\n",
    "## 由于逻辑回归模型是概率预测模型（前文介绍的 p = p(y=1|x,\\theta)）,所有我们可以利用 predict_proba 函数预测其概率\n",
    "y_label_new1_predict_proba = lr_clf.predict_proba(x_fearures_new1)\n",
    "y_label_new2_predict_proba = lr_clf.predict_proba(x_fearures_new2)\n",
    "\n",
    "print('The New point 1 predict Probability of each class:\\n',y_label_new1_predict_proba)\n",
    "print('The New point 2 predict Probability of each class:\\n',y_label_new2_predict_proba)"
   ]
  }
 ],
 "metadata": {
  "kernelspec": {
   "display_name": "Pytorch-1.4.0",
   "language": "python",
   "name": "pytorch-1.4.0"
  },
  "language_info": {
   "codemirror_mode": {
    "name": "ipython",
    "version": 3
   },
   "file_extension": ".py",
   "mimetype": "text/x-python",
   "name": "python",
   "nbconvert_exporter": "python",
   "pygments_lexer": "ipython3",
   "version": "3.6.4"
  }
 },
 "nbformat": 4,
 "nbformat_minor": 4
}
