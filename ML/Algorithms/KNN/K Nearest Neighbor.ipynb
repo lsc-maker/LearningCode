{
 "cells": [
  {
   "cell_type": "markdown",
   "metadata": {},
   "source": [
    "# k近邻"
   ]
  },
  {
   "cell_type": "markdown",
   "metadata": {},
   "source": [
    "导入相关的 package 和设定绘图参数"
   ]
  },
  {
   "cell_type": "code",
   "execution_count": 1,
   "metadata": {},
   "outputs": [],
   "source": [
    "import numpy as np\n",
    "from collections import Counter\n",
    "import random\n",
    "import matplotlib.pyplot as plt\n",
    "from sklearn import datasets\n",
    "from sklearn.utils import shuffle\n",
    "plt.rcParams['figure.figsize'] = (10.0, 8.0) \n",
    "plt.rcParams['image.interpolation'] = 'nearest'\n",
    "plt.rcParams['image.cmap'] = 'gray'"
   ]
  },
  {
   "cell_type": "markdown",
   "metadata": {},
   "source": [
    "以 iris 数据集为例"
   ]
  },
  {
   "cell_type": "code",
   "execution_count": 2,
   "metadata": {},
   "outputs": [
    {
     "name": "stdout",
     "output_type": "stream",
     "text": [
      "X_train= (105, 4)\n",
      "X_test= (45, 4)\n",
      "y_train= (105, 1)\n",
      "y_test= (45, 1)\n"
     ]
    }
   ],
   "source": [
    "X, y = shuffle(datasets.load_iris().data, datasets.load_iris().target, random_state=13)\n",
    "X = X.astype(np.float32)\n",
    "# 训练集与测试集的简单划分\n",
    "offset = int(X.shape[0] * 0.7)\n",
    "X_train, y_train = X[:offset], y[:offset]\n",
    "X_test, y_test = X[offset:], y[offset:]\n",
    "y_train = y_train.reshape((-1,1))\n",
    "y_test = y_test.reshape((-1,1))\n",
    "\n",
    "print('X_train=', X_train.shape)\n",
    "print('X_test=', X_test.shape)\n",
    "print('y_train=', y_train.shape)\n",
    "print('y_test=', y_test.shape)"
   ]
  },
  {
   "cell_type": "markdown",
   "metadata": {},
   "source": [
    "定义 L2 距离度量函数"
   ]
  },
  {
   "cell_type": "code",
   "execution_count": 3,
   "metadata": {},
   "outputs": [],
   "source": [
    "def compute_distances(X, X_train):\n",
    "    num_test = X.shape[0]\n",
    "    num_train = X_train.shape[0]\n",
    "    dists = np.zeros((num_test, num_train)) \n",
    "\n",
    "    M = np.dot(X, X_train.T)\n",
    "    te = np.square(X).sum(axis=1)\n",
    "    tr = np.square(X_train).sum(axis=1)\n",
    "    dists = np.sqrt(-2 * M + tr + np.matrix(te).T)    \n",
    "    return dists"
   ]
  },
  {
   "cell_type": "markdown",
   "metadata": {},
   "source": [
    "计算测试集与训练集实例的距离"
   ]
  },
  {
   "cell_type": "code",
   "execution_count": 4,
   "metadata": {},
   "outputs": [
    {
     "name": "stdout",
     "output_type": "stream",
     "text": [
      "(45, 105)\n"
     ]
    }
   ],
   "source": [
    "dists = compute_distances(X_test,X_train)\n",
    "print(dists.shape)"
   ]
  },
  {
   "cell_type": "markdown",
   "metadata": {},
   "source": [
    "距离矩阵进行可视化展示"
   ]
  },
  {
   "cell_type": "code",
   "execution_count": 5,
   "metadata": {},
   "outputs": [
    {
     "data": {
      "image/png": "[encoded data removed]",
      "text/plain": [
       "<Figure size 720x576 with 1 Axes>"
      ]
     },
     "metadata": {
      "needs_background": "light"
     },
     "output_type": "display_data"
    }
   ],
   "source": [
    "plt.imshow(dists, interpolation='none')\n",
    "plt.show()"
   ]
  },
  {
   "cell_type": "markdown",
   "metadata": {},
   "source": [
    "使用多数表决的分类决策规则定义预测函数，这里假设 k 值取 1"
   ]
  },
  {
   "cell_type": "code",
   "execution_count": 6,
   "metadata": {},
   "outputs": [],
   "source": [
    "def predict_labels(y_train, dists, k=1):\n",
    "    num_test = dists.shape[0]\n",
    "    y_pred = np.zeros(num_test)    \n",
    "    for i in range(num_test):\n",
    "\n",
    "        closest_y = []\n",
    "        # 注意 argsort 函数的用法\n",
    "        labels = y_train[np.argsort(dists[i, :])].flatten()\n",
    "        closest_y = labels[0:k]\n",
    "\n",
    "        c = Counter(closest_y)\n",
    "        y_pred[i] = c.most_common(1)[0][0]    \n",
    "    return y_pred"
   ]
  },
  {
   "cell_type": "markdown",
   "metadata": {},
   "source": [
    "预测测试集的类别准确率"
   ]
  },
  {
   "cell_type": "code",
   "execution_count": 8,
   "metadata": {},
   "outputs": [
    {
     "name": "stdout",
     "output_type": "stream",
     "text": [
      "Got 44 / 45 correct => accuracy: 0.977778\n"
     ]
    }
   ],
   "source": [
    "y_test_pred = predict_labels(y_train,dists, k=1)\n",
    "y_test_pred = y_test_pred.reshape((-1, 1))\n",
    "num_correct = np.sum(y_test_pred == y_test)\n",
    "accuracy = float(num_correct) / X_test.shape[0]\n",
    "print('Got %d / %d correct => accuracy: %f' % (num_correct, X_test.shape[0], accuracy))"
   ]
  },
  {
   "cell_type": "markdown",
   "metadata": {},
   "source": [
    "使用 5 折交叉验证来选择最优的 k 值"
   ]
  },
  {
   "cell_type": "code",
   "execution_count": 12,
   "metadata": {},
   "outputs": [
    {
     "name": "stdout",
     "output_type": "stream",
     "text": [
      "k = 1, accuracy = 0.904762\n",
      "k = 1, accuracy = 1.000000\n",
      "k = 1, accuracy = 0.952381\n",
      "k = 1, accuracy = 0.857143\n",
      "k = 1, accuracy = 0.952381\n",
      "k = 3, accuracy = 0.857143\n",
      "k = 3, accuracy = 1.000000\n",
      "k = 3, accuracy = 0.952381\n",
      "k = 3, accuracy = 0.857143\n",
      "k = 3, accuracy = 0.952381\n",
      "k = 5, accuracy = 0.857143\n",
      "k = 5, accuracy = 1.000000\n",
      "k = 5, accuracy = 0.952381\n",
      "k = 5, accuracy = 0.904762\n",
      "k = 5, accuracy = 0.952381\n",
      "k = 8, accuracy = 0.904762\n",
      "k = 8, accuracy = 1.000000\n",
      "k = 8, accuracy = 0.952381\n",
      "k = 8, accuracy = 0.904762\n",
      "k = 8, accuracy = 0.952381\n",
      "k = 10, accuracy = 0.952381\n",
      "k = 10, accuracy = 1.000000\n",
      "k = 10, accuracy = 0.952381\n",
      "k = 10, accuracy = 0.904762\n",
      "k = 10, accuracy = 0.952381\n",
      "k = 12, accuracy = 0.952381\n",
      "k = 12, accuracy = 1.000000\n",
      "k = 12, accuracy = 0.952381\n",
      "k = 12, accuracy = 0.857143\n",
      "k = 12, accuracy = 0.952381\n",
      "k = 15, accuracy = 0.952381\n",
      "k = 15, accuracy = 1.000000\n",
      "k = 15, accuracy = 0.952381\n",
      "k = 15, accuracy = 0.857143\n",
      "k = 15, accuracy = 0.952381\n",
      "k = 20, accuracy = 0.952381\n",
      "k = 20, accuracy = 1.000000\n",
      "k = 20, accuracy = 0.952381\n",
      "k = 20, accuracy = 0.761905\n",
      "k = 20, accuracy = 0.952381\n",
      "k = 50, accuracy = 1.000000\n",
      "k = 50, accuracy = 1.000000\n",
      "k = 50, accuracy = 0.904762\n",
      "k = 50, accuracy = 0.761905\n",
      "k = 50, accuracy = 0.904762\n",
      "k = 100, accuracy = 0.285714\n",
      "k = 100, accuracy = 0.380952\n",
      "k = 100, accuracy = 0.333333\n",
      "k = 100, accuracy = 0.238095\n",
      "k = 100, accuracy = 0.190476\n"
     ]
    }
   ],
   "source": [
    "num_folds = 5\n",
    "k_choices = [1, 3, 5, 8, 10, 12, 15, 20, 50, 100]\n",
    "\n",
    "X_train_folds = []\n",
    "y_train_folds = []\n",
    "\n",
    "X_train_folds = np.array_split(X_train, num_folds)\n",
    "y_train_folds = np.array_split(y_train, num_folds)\n",
    "k_to_accuracies = {}\n",
    "for k in k_choices:    \n",
    "    for fold in range(num_folds): \n",
    "        # 对传入的训练集单独划出一个验证集作为测试集\n",
    "        validation_X_test = X_train_folds[fold]\n",
    "        validation_y_test = y_train_folds[fold]\n",
    "        temp_X_train = np.concatenate(X_train_folds[:fold] + X_train_folds[fold + 1:])\n",
    "        temp_y_train = np.concatenate(y_train_folds[:fold] + y_train_folds[fold + 1:])       \n",
    "        # 计算距离\n",
    "        temp_dists = compute_distances(validation_X_test,temp_X_train)\n",
    "        temp_y_test_pred = predict_labels(temp_y_train,temp_dists, k=k)\n",
    "        temp_y_test_pred = temp_y_test_pred.reshape((-1, 1))       \n",
    "        # 查看分类准确率\n",
    "        num_correct = np.sum(temp_y_test_pred == validation_y_test)\n",
    "        num_test = validation_X_test.shape[0]\n",
    "        accuracy = float(num_correct) / num_test\n",
    "        k_to_accuracies[k] = k_to_accuracies.get(k,[]) + [accuracy]\n",
    "      \n",
    " \n",
    "# 打印不同 k 值不同折数下的分类准确率\n",
    "for k in sorted(k_to_accuracies):    \n",
    "      for accuracy in k_to_accuracies[k]:\n",
    "        print('k = %d, accuracy = %f' % (k, accuracy))"
   ]
  },
  {
   "cell_type": "markdown",
   "metadata": {},
   "source": [
    "对不同 k 值下的分类准确率进行可视化展示"
   ]
  },
  {
   "cell_type": "code",
   "execution_count": 13,
   "metadata": {},
   "outputs": [
    {
     "data": {
      "image/png": "[encoded data removed]",
      "text/plain": [
       "<Figure size 720x576 with 1 Axes>"
      ]
     },
     "metadata": {
      "needs_background": "light"
     },
     "output_type": "display_data"
    }
   ],
   "source": [
    "for k in k_choices:\n",
    "    accuracies = k_to_accuracies[k]\n",
    "    plt.scatter([k] * len(accuracies), accuracies)\n",
    "\n",
    "accuracies_mean = np.array([np.mean(v) for k,v in sorted(k_to_accuracies.items())])\n",
    "accuracies_std = np.array([np.std(v) for k,v in sorted(k_to_accuracies.items())])\n",
    "plt.errorbar(k_choices, accuracies_mean, yerr=accuracies_std)\n",
    "plt.title('Cross-validation on k')\n",
    "plt.xlabel('k')\n",
    "plt.ylabel('Cross-validation accuracy')\n",
    "plt.show()"
   ]
  },
  {
   "cell_type": "markdown",
   "metadata": {},
   "source": [
    "查看最佳 k 值大小"
   ]
  },
  {
   "cell_type": "code",
   "execution_count": 15,
   "metadata": {},
   "outputs": [
    {
     "name": "stdout",
     "output_type": "stream",
     "text": [
      "最佳k值为 10\n"
     ]
    }
   ],
   "source": [
    "best_k = k_choices[np.argmax(accuracies_mean)]\n",
    "print(\"最佳k值为\",best_k)"
   ]
  }
 ],
 "metadata": {
  "kernelspec": {
   "display_name": "Python 3",
   "language": "python",
   "name": "python3"
  },
  "language_info": {
   "codemirror_mode": {
    "name": "ipython",
    "version": 3
   },
   "file_extension": ".py",
   "mimetype": "text/x-python",
   "name": "python",
   "nbconvert_exporter": "python",
   "pygments_lexer": "ipython3",
   "version": "3.7.7"
  }
 },
 "nbformat": 4,
 "nbformat_minor": 4
}
