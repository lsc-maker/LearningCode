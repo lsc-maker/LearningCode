{
 "cells": [
  {
   "cell_type": "markdown",
   "metadata": {},
   "source": [
    "# 感应机"
   ]
  },
  {
   "cell_type": "markdown",
   "metadata": {},
   "source": [
    "用sklearn来准备一下示例数据"
   ]
  },
  {
   "cell_type": "code",
   "execution_count": null,
   "metadata": {},
   "outputs": [],
   "source": [
    "# 导入相关库\n",
    "import pandas as pd\n",
    "import numpy as np\n",
    "from sklearn.datasets import load_iris\n",
    "import matplotlib.pyplot as plt\n",
    "\n",
    "# 导入iris数据集\n",
    "iris = load_iris()\n",
    "df = pd.DataFrame(iris.data, columns=iris.feature_names)\n",
    "df['label'] = iris.target\n",
    "df.columns = ['sepal length', 'sepal width', 'petal length', 'petal width', 'label']\n",
    "\n",
    "# 绘制散点图\n",
    "plt.scatter(df[:50]['sepal length'], df[:50]['sepal width'], c='red', label='0')\n",
    "plt.scatter(df[50:100]['sepal length'], df[50:100]['sepal width'], c='green', label='1')\n",
    "plt.xlabel('sepal length')\n",
    "plt.ylabel('sepal width')\n",
    "plt.legend();"
   ]
  },
  {
   "cell_type": "code",
   "execution_count": null,
   "metadata": {},
   "outputs": [],
   "source": [
    "# 取两列数据并将并将标签转化为1/-1\n",
    "data = np.array(df.iloc[:100, [0, 1, -1]])\n",
    "X, y = data[:,:-1], data[:,-1]\n",
    "y = np.array([1 if i == 1 else -1 for i in y])"
   ]
  },
  {
   "cell_type": "markdown",
   "metadata": {},
   "source": [
    "定义一个参数初始化函数"
   ]
  },
  {
   "cell_type": "code",
   "execution_count": null,
   "metadata": {},
   "outputs": [],
   "source": [
    "# 定义参数初始化函数\n",
    "def initilize_with_zeros(dim):\n",
    "    w = np.zeros(dim)\n",
    "    b = 0.0\n",
    "    return w, b"
   ]
  },
  {
   "cell_type": "markdown",
   "metadata": {},
   "source": [
    "定义sign符号函数"
   ]
  },
  {
   "cell_type": "code",
   "execution_count": null,
   "metadata": {},
   "outputs": [],
   "source": [
    "# 定义sign符号函数\n",
    "def sign(x, w, b):\n",
    "    return np.dot(x,w)+b"
   ]
  },
  {
   "cell_type": "markdown",
   "metadata": {},
   "source": [
    "定义模型训练和优化部分"
   ]
  },
  {
   "cell_type": "code",
   "execution_count": null,
   "metadata": {},
   "outputs": [],
   "source": [
    "# 定义感知机训练函数\n",
    "def train(X_train, y_train, learning_rate):\n",
    "    # 参数初始化\n",
    "    w, b = initilize_with_zeros(X_train.shape[1])\n",
    "    # 初始化误分类\n",
    "    is_wrong = False\n",
    "    while not is_wrong:\n",
    "        wrong_count = 0\n",
    "        for i in range(len(X_train)):\n",
    "            X = X_train[i]\n",
    "            y = y_train[i]\n",
    "            # 如果存在误分类点\n",
    "            # 更新参数\n",
    "            # 直到没有误分类点\n",
    "            if y * sign(X, w, b) <= 0:\n",
    "                w = w + learning_rate*np.dot(y, X)\n",
    "                b = b + learning_rate*y\n",
    "                wrong_count += 1\n",
    "        if wrong_count == 0:\n",
    "            is_wrong = True\n",
    "            print('There is no missclassification!')\n",
    "        \n",
    "        # 保存更新后的参数\n",
    "        params = {\n",
    "            'w': w,\n",
    "            'b': b\n",
    "        }\n",
    "    return params"
   ]
  },
  {
   "cell_type": "markdown",
   "metadata": {},
   "source": [
    "对示例数据进行训练"
   ]
  },
  {
   "cell_type": "code",
   "execution_count": null,
   "metadata": {},
   "outputs": [],
   "source": [
    "params = train(X, y, 0.01)\n",
    "params"
   ]
  },
  {
   "cell_type": "markdown",
   "metadata": {},
   "source": [
    "对训练结果进行可视化，绘制模型的决策边界"
   ]
  },
  {
   "cell_type": "code",
   "execution_count": null,
   "metadata": {},
   "outputs": [],
   "source": [
    "x_points = np.linspace(4, 7, 10)\n",
    "y_hat = -(params['w'][0]*x_points + params['b'])/params['w'][1]\n",
    "plt.plot(x_points, y_hat)\n",
    "\n",
    "plt.plot(data[:50, 0], data[:50, 1], color='red', label='0')\n",
    "plt.plot(data[50:100, 0], data[50:100, 1], color='green', label='1')\n",
    "plt.xlabel('sepal length')\n",
    "plt.ylabel('sepal width')\n",
    "plt.legend()"
   ]
  }
 ],
 "metadata": {
  "kernelspec": {
   "display_name": "Python 3",
   "language": "python",
   "name": "python3"
  },
  "language_info": {
   "codemirror_mode": {
    "name": "ipython",
    "version": 3
   },
   "file_extension": ".py",
   "mimetype": "text/x-python",
   "name": "python",
   "nbconvert_exporter": "python",
   "pygments_lexer": "ipython3",
   "version": "3.7.7"
  }
 },
 "nbformat": 4,
 "nbformat_minor": 4
}
