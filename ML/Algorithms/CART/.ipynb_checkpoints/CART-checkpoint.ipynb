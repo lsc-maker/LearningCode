{
 "cells": [
  {
   "cell_type": "markdown",
   "metadata": {},
   "source": [
    "# CART"
   ]
  },
  {
   "cell_type": "markdown",
   "metadata": {},
   "source": [
    "定义Gini指数的计算函数"
   ]
  },
  {
   "cell_type": "code",
   "execution_count": null,
   "metadata": {},
   "outputs": [],
   "source": [
    "def gini(nums):\n",
    "    probs = [nums.count(i)/len(nums) for i in set(nums)]\n",
    "    gini = sum([p*(1-p) for p in probs]) \n",
    "    return gini"
   ]
  },
  {
   "cell_type": "markdown",
   "metadata": {},
   "source": [
    "读入数据并计算标签的Gini指数"
   ]
  },
  {
   "cell_type": "code",
   "execution_count": null,
   "metadata": {},
   "outputs": [],
   "source": [
    "import numpy as np\n",
    "import pandas as pd\n",
    "from math import log\n",
    "\n",
    "df = pd.read_csv('../data/example_data.csv', dtype={'windy': 'str'})\n",
    "gini(df['play'].tolist())"
   ]
  },
  {
   "cell_type": "markdown",
   "metadata": {},
   "source": [
    "定义根据特征分割数据框的函数"
   ]
  },
  {
   "cell_type": "code",
   "execution_count": null,
   "metadata": {},
   "outputs": [],
   "source": [
    "def split_dataframe(data, col):\n",
    "    '''\n",
    "    function: split pandas dataframe to sub-df based on data and column.\n",
    "    input: dataframe, column name.\n",
    "    output: a dict of splited dataframe.\n",
    "    '''\n",
    "    # unique value of column\n",
    "    unique_values = data[col].unique()    \n",
    "    # empty dict of dataframe\n",
    "    result_dict = {elem : pd.DataFrame for elem in unique_values}    \n",
    "    # split dataframe based on column value\n",
    "    for key in result_dict.keys():\n",
    "        result_dict[key] = data[:][data[col] == key]    \n",
    "    return result_dict"
   ]
  },
  {
   "cell_type": "markdown",
   "metadata": {},
   "source": [
    "根据温度特征对数据进行划分"
   ]
  },
  {
   "cell_type": "code",
   "execution_count": null,
   "metadata": {},
   "outputs": [],
   "source": [
    "split_dataframe(df,'temp')"
   ]
  },
  {
   "cell_type": "markdown",
   "metadata": {},
   "source": [
    "根据Gini指数和条件Gini指数计算递归选择最优特征，定义函数如下"
   ]
  },
  {
   "cell_type": "code",
   "execution_count": null,
   "metadata": {},
   "outputs": [],
   "source": [
    "def choose_best_col(df, label):\n",
    "    '''\n",
    "    funtion: choose the best column based on infomation gain.\n",
    "    input: datafram, label\n",
    "    output: max infomation gain, best column, \n",
    "            splited dataframe dict based on best column.\n",
    "    '''\n",
    "    # Calculating label's gini index\n",
    "    gini_D = gini(df[label].tolist())    \n",
    "    # columns list except label\n",
    "    cols = [col for col in df.columns if col not in [label]]    \n",
    "    # initialize the max infomation gain, best column and best splited dict\n",
    "    min_value, best_col = 999, None\n",
    "    min_splited = None\n",
    "    # split data based on different column\n",
    "    for col in cols:\n",
    "        splited_set = split_dataframe(df, col)\n",
    "        gini_DA = 0\n",
    "        for subset_col, subset in splited_set.items():            \n",
    "        # calculating splited dataframe label's gini index\n",
    "            gini_Di = gini(subset[label].tolist())            \n",
    "            # calculating gini index of current feature\n",
    "            gini_DA += len(subset)/len(df) * gini_Di        \n",
    "            if gini_DA < min_value:\n",
    "                min_value, best_col = gini_DA, col\n",
    "                min_splited = splited_set    \n",
    "            return min_value, best_col, min_splited"
   ]
  },
  {
   "cell_type": "markdown",
   "metadata": {},
   "source": [
    "定义CART分类树的构建过程"
   ]
  },
  {
   "cell_type": "code",
   "execution_count": null,
   "metadata": {},
   "outputs": [],
   "source": [
    "class CartTree:    \n",
    "    # define a Node class\n",
    "    class Node:        \n",
    "        def __init__(self, name):\n",
    "            self.name = name\n",
    "            self.connections = {}    \n",
    "\n",
    "        def connect(self, label, node):\n",
    "            self.connections[label] = node    \n",
    "\n",
    "    def __init__(self, data, label):\n",
    "        self.columns = data.columns\n",
    "        self.data = data\n",
    "        self.label = label\n",
    "        self.root = self.Node(\"Root\")    \n",
    "\n",
    "    # print tree method\n",
    "    def print_tree(self, node, tabs):\n",
    "        print(tabs + node.name)        \n",
    "        for connection, child_node in node.connections.items():\n",
    "            print(tabs + \"\\t\" + \"(\" + connection + \")\")\n",
    "            self.print_tree(child_node, tabs + \"\\t\\t\")    \n",
    "\n",
    "    def construct_tree(self):\n",
    "        self.construct(self.root, \"\", self.data, self.columns)    \n",
    "\n",
    "    # construct tree\n",
    "    def construct(self, parent_node, parent_connection_label, input_data, columns):\n",
    "        min_value, best_col, min_splited = choose_best_col(input_data[columns], self.label)   \n",
    "        if not best_col:\n",
    "            node = self.Node(input_data[self.label].iloc[0])\n",
    "            parent_node.connect(parent_connection_label, node)            \n",
    "            return\n",
    "\n",
    "        node = self.Node(best_col)\n",
    "        parent_node.connect(parent_connection_label, node)\n",
    "\n",
    "        new_columns = [col for col in columns if col != best_col]        \n",
    "        # Recursively constructing decision trees\n",
    "        for splited_value, splited_data in min_splited.items():\n",
    "            self.construct(node, splited_value, splited_data, new_columns)"
   ]
  },
  {
   "cell_type": "markdown",
   "metadata": {},
   "source": [
    "执行代码生成CART分类树"
   ]
  },
  {
   "cell_type": "code",
   "execution_count": null,
   "metadata": {},
   "outputs": [],
   "source": [
    "treel = ID3Tree(df,'play')\n",
    "treel.construct_tree()\n",
    "treel.print_tree(treel.root,\"\")"
   ]
  }
 ],
 "metadata": {
  "kernelspec": {
   "display_name": "Python 3",
   "language": "python",
   "name": "python3"
  }
 },
 "nbformat": 4,
 "nbformat_minor": 4
}
