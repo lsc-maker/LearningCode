{
 "cells": [
  {
   "cell_type": "markdown",
   "metadata": {},
   "source": [
    "# 线性回归"
   ]
  },
  {
   "cell_type": "markdown",
   "metadata": {},
   "source": [
    "回归模型主体"
   ]
  },
  {
   "cell_type": "code",
   "execution_count": null,
   "metadata": {},
   "outputs": [],
   "source": [
    "import numpy as np\n",
    "\n",
    "def linear_loss(X, y, w, b):\n",
    "    num_train = X.shape[0]\n",
    "    num_feature = X.shape[1]    \n",
    "    # 模型公式\n",
    "    y_hat = np.dot(X, w) + b    \n",
    "    # 损失函数\n",
    "    loss = np.sum((y_hat-y)**2)/num_train    \n",
    "    # 参数的偏导\n",
    "    dw = np.dot(X.T, (y_hat-y)) /num_train\n",
    "    db = np.sum((y_hat-y)) /num_train    \n",
    "    return y_hat, loss, dw, db"
   ]
  },
  {
   "cell_type": "markdown",
   "metadata": {},
   "source": [
    "参数初始化"
   ]
  },
  {
   "cell_type": "code",
   "execution_count": null,
   "metadata": {},
   "outputs": [],
   "source": [
    "def initialize_params(dims):\n",
    "    w = np.zeros((dims, 1))\n",
    "    b = 0\n",
    "    return w, b"
   ]
  },
  {
   "cell_type": "markdown",
   "metadata": {},
   "source": [
    "基于梯度下降的模型训练过程"
   ]
  },
  {
   "cell_type": "code",
   "execution_count": null,
   "metadata": {},
   "outputs": [],
   "source": [
    "def linar_train(X, y, learning_rate, epochs):\n",
    "    w, b = initialize_params(X.shape[1])  \n",
    "    loss_list = []  \n",
    "    for i in range(1, epochs):        \n",
    "    # 计算当前预测值、损失和参数偏导\n",
    "        y_hat, loss, dw, db = linear_loss(X, y, w, b)  \n",
    "        loss_list.append(loss)      \n",
    "        # 基于梯度下降的参数更新过程\n",
    "        w += -learning_rate * dw\n",
    "        b += -learning_rate * db        \n",
    "        # 打印迭代次数和损失\n",
    "\n",
    "        if i % 10000 == 0:\n",
    "            print('epoch %d loss %f' % (i, loss)) \n",
    "               \n",
    "        # 保存参数\n",
    "        params = {            \n",
    "            'w': w,            \n",
    "            'b': b\n",
    "        }        \n",
    "        \n",
    "        # 保存梯度\n",
    "        grads = {            \n",
    "            'dw': dw,            \n",
    "            'db': db\n",
    "        }    \n",
    "            \n",
    "    return loss_list, loss, params, grads"
   ]
  },
  {
   "cell_type": "markdown",
   "metadata": {},
   "source": [
    "以上便是线性回归模型的基本实现过程。下面以 sklearn 中的 diabetes 数据集为例进行简单的训练。  \n",
    "  \n",
    "数据准备"
   ]
  },
  {
   "cell_type": "code",
   "execution_count": null,
   "metadata": {},
   "outputs": [],
   "source": [
    "from sklearn.datasets import load_diabetes\n",
    "from sklearn.utils import shuffle\n",
    "\n",
    "diabetes = load_diabetes()\n",
    "data = diabetes.data\n",
    "target = diabetes.target \n",
    "\n",
    "# 打乱数据\n",
    "X, y = shuffle(data, target, random_state=13)\n",
    "X = X.astype(np.float32)\n",
    "\n",
    "# 训练集与测试集的简单划分\n",
    "offset = int(X.shape[0] * 0.9)\n",
    "X_train, y_train = X[:offset], y[:offset]\n",
    "X_test, y_test = X[offset:], y[offset:]\n",
    "y_train = y_train.reshape((-1,1))\n",
    "y_test = y_test.reshape((-1,1))\n",
    "\n",
    "print('X_train=', X_train.shape)\n",
    "print('X_test=', X_test.shape)\n",
    "print('y_train=', y_train.shape)\n",
    "print('y_test=', y_test.shape)"
   ]
  },
  {
   "cell_type": "markdown",
   "metadata": {},
   "source": [
    "执行训练"
   ]
  },
  {
   "cell_type": "code",
   "execution_count": null,
   "metadata": {},
   "outputs": [],
   "source": [
    "loss_list, loss, params, grads = linar_train(X_train, y_train, 0.001, 100000)"
   ]
  },
  {
   "cell_type": "markdown",
   "metadata": {},
   "source": [
    "查看训练得到的回归模型参数值"
   ]
  },
  {
   "cell_type": "code",
   "execution_count": null,
   "metadata": {},
   "outputs": [],
   "source": [
    "print(params)"
   ]
  },
  {
   "cell_type": "markdown",
   "metadata": {},
   "source": [
    "定义一个预测函数对测试集结果进行预测"
   ]
  },
  {
   "cell_type": "code",
   "execution_count": null,
   "metadata": {},
   "outputs": [],
   "source": [
    "def predict(X, params):\n",
    "    w = params['w']\n",
    "    b = params['b']\n",
    "\n",
    "    y_pred = np.dot(X, w) + b    \n",
    "    return y_pred\n",
    "\n",
    "y_pred = predict(X_test, params)\n",
    "y_pred[:5]"
   ]
  },
  {
   "cell_type": "markdown",
   "metadata": {},
   "source": [
    "利用 matplotlib 对预测结果和真值进行展示"
   ]
  },
  {
   "cell_type": "code",
   "execution_count": null,
   "metadata": {},
   "outputs": [],
   "source": [
    "import matplotlib.pyplot as plt\n",
    "f = X_test.dot(params['w']) + params['b']\n",
    "\n",
    "plt.scatter(range(X_test.shape[0]), y_test)\n",
    "plt.plot(f, color = 'darkorange')\n",
    "plt.xlabel('X')\n",
    "plt.ylabel('y')\n",
    "plt.show()"
   ]
  },
  {
   "cell_type": "markdown",
   "metadata": {},
   "source": [
    "训练过程中损失的下降"
   ]
  },
  {
   "cell_type": "code",
   "execution_count": null,
   "metadata": {},
   "outputs": [],
   "source": [
    "plt.plot(loss_list, color = 'blue')\n",
    "plt.xlabel('epochs')\n",
    "plt.ylabel('loss')\n",
    "plt.show()"
   ]
  },
  {
   "cell_type": "code",
   "execution_count": null,
   "metadata": {},
   "outputs": [],
   "source": []
  }
 ],
 "metadata": {
  "kernelspec": {
   "display_name": "Python 3",
   "language": "python",
   "name": "python3"
  },
  "language_info": {
   "codemirror_mode": {
    "name": "ipython",
    "version": 3
   },
   "file_extension": ".py",
   "mimetype": "text/x-python",
   "name": "python",
   "nbconvert_exporter": "python",
   "pygments_lexer": "ipython3",
   "version": "3.7.7"
  }
 },
 "nbformat": 4,
 "nbformat_minor": 4
}
